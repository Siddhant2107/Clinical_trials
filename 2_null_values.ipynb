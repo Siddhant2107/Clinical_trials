{
 "cells": [
  {
   "cell_type": "code",
   "execution_count": 1,
   "metadata": {},
   "outputs": [],
   "source": [
    "import pandas as pd\n",
    "import numpy as np\n",
    "from sklearn.preprocessing import MinMaxScaler, OneHotEncoder\n",
    "from sklearn.feature_extraction.text import TfidfVectorizer\n",
    "from sklearn.impute import SimpleImputer\n"
   ]
  },
  {
   "cell_type": "code",
   "execution_count": 2,
   "metadata": {},
   "outputs": [
    {
     "name": "stdout",
     "output_type": "stream",
     "text": [
      "NumPy version: 1.26.4\n",
      "All imports successful!\n"
     ]
    }
   ],
   "source": [
    "import numpy\n",
    "import pandas\n",
    "import scipy\n",
    "import matplotlib\n",
    "print(\"NumPy version:\", numpy.__version__)\n",
    "print(\"All imports successful!\")"
   ]
  },
  {
   "cell_type": "code",
   "execution_count": 3,
   "metadata": {},
   "outputs": [],
   "source": [
    "import matplotlib as plt"
   ]
  },
  {
   "cell_type": "code",
   "execution_count": 4,
   "metadata": {},
   "outputs": [
    {
     "name": "stdout",
     "output_type": "stream",
     "text": [
      "3.9.2\n"
     ]
    }
   ],
   "source": [
    "import matplotlib\n",
    "print(matplotlib.__version__)\n"
   ]
  },
  {
   "cell_type": "markdown",
   "metadata": {},
   "source": [
    "Dropping irrelevant columns that don't contribute to our Problem Statement or are completely empty"
   ]
  },
  {
   "cell_type": "code",
   "execution_count": 3,
   "metadata": {},
   "outputs": [],
   "source": [
    "import pandas as pd\n",
    "\n",
    "file_path = 'usecase_3_.csv'\n",
    "data = pd.read_csv(file_path)\n"
   ]
  },
  {
   "cell_type": "code",
   "execution_count": 4,
   "metadata": {},
   "outputs": [
    {
     "name": "stdout",
     "output_type": "stream",
     "text": [
      "(257577, 32)\n"
     ]
    }
   ],
   "source": [
    "print(data.shape)"
   ]
  },
  {
   "cell_type": "code",
   "execution_count": 5,
   "metadata": {},
   "outputs": [
    {
     "name": "stdout",
     "output_type": "stream",
     "text": [
      "Total number of null values: 1346212\n"
     ]
    }
   ],
   "source": [
    "total_nulls = data.isnull().sum().sum()\n",
    "print(f\"Total number of null values: {total_nulls}\")"
   ]
  },
  {
   "cell_type": "code",
   "execution_count": 6,
   "metadata": {},
   "outputs": [
    {
     "data": {
      "text/plain": [
       "Unnamed: 0.1                  257577\n",
       "Unnamed: 0                    257577\n",
       "NCT Number                    257577\n",
       "Study Title                   256885\n",
       "Study URL                     257577\n",
       "Acronym                        52454\n",
       "Study Status                       4\n",
       "Brief Summary                 256391\n",
       "Study Results                      2\n",
       "Conditions                    102973\n",
       "Interventions                 198548\n",
       "Primary Outcome Measures      244191\n",
       "Secondary Outcome Measures    184792\n",
       "Other Outcome Measures         18199\n",
       "Sponsor                        26239\n",
       "Collaborators                  35926\n",
       "Sex                                3\n",
       "Age                                6\n",
       "Phases                             7\n",
       "Enrollment                      6513\n",
       "Funder Type                        9\n",
       "Study Type                         2\n",
       "Study Design                    1443\n",
       "Other IDs                     254188\n",
       "Start Date                      8049\n",
       "Primary Completion Date         6925\n",
       "Completion Date                 6981\n",
       "First Posted                    5733\n",
       "Results First Posted            3771\n",
       "Last Update Posted              4637\n",
       "Locations                     151996\n",
       "Study Documents                25155\n",
       "dtype: int64"
      ]
     },
     "execution_count": 6,
     "metadata": {},
     "output_type": "execute_result"
    }
   ],
   "source": [
    "data.nunique()"
   ]
  },
  {
   "cell_type": "code",
   "execution_count": 7,
   "metadata": {},
   "outputs": [],
   "source": [
    "data = data.drop(columns=['Unnamed: 0', 'Unnamed: 0.1','Study URL','Acronym','Sponsor','Age','Other IDs','Primary Completion Date','First Posted','Last Update Posted','Locations','Study Documents'], errors='ignore')"
   ]
  },
  {
   "cell_type": "code",
   "execution_count": 8,
   "metadata": {},
   "outputs": [],
   "source": [
    "data = data.drop(columns=['Results First Posted'])"
   ]
  },
  {
   "cell_type": "code",
   "execution_count": 9,
   "metadata": {},
   "outputs": [],
   "source": [
    "data.to_csv(\"usecase3_drop.csv\")"
   ]
  },
  {
   "cell_type": "code",
   "execution_count": 12,
   "metadata": {},
   "outputs": [],
   "source": [
    "import pandas as pd\n",
    "\n",
    "file_path = 'drop_withdrawals.txt'\n",
    "df = pd.read_csv(file_path, sep = \"|\")"
   ]
  },
  {
   "cell_type": "code",
   "execution_count": 13,
   "metadata": {},
   "outputs": [
    {
     "name": "stdout",
     "output_type": "stream",
     "text": [
      "(487399, 10)\n"
     ]
    }
   ],
   "source": [
    "print(df.shape)"
   ]
  },
  {
   "cell_type": "code",
   "execution_count": 14,
   "metadata": {},
   "outputs": [
    {
     "data": {
      "text/html": [
       "<div>\n",
       "<style scoped>\n",
       "    .dataframe tbody tr th:only-of-type {\n",
       "        vertical-align: middle;\n",
       "    }\n",
       "\n",
       "    .dataframe tbody tr th {\n",
       "        vertical-align: top;\n",
       "    }\n",
       "\n",
       "    .dataframe thead th {\n",
       "        text-align: right;\n",
       "    }\n",
       "</style>\n",
       "<table border=\"1\" class=\"dataframe\">\n",
       "  <thead>\n",
       "    <tr style=\"text-align: right;\">\n",
       "      <th></th>\n",
       "      <th>id</th>\n",
       "      <th>nct_id</th>\n",
       "      <th>result_group_id</th>\n",
       "      <th>ctgov_group_code</th>\n",
       "      <th>period</th>\n",
       "      <th>reason</th>\n",
       "      <th>count</th>\n",
       "      <th>drop_withdraw_comment</th>\n",
       "      <th>reason_comment</th>\n",
       "      <th>count_units</th>\n",
       "    </tr>\n",
       "  </thead>\n",
       "  <tbody>\n",
       "    <tr>\n",
       "      <th>0</th>\n",
       "      <td>5991139</td>\n",
       "      <td>NCT00827372</td>\n",
       "      <td>9120733</td>\n",
       "      <td>FG000</td>\n",
       "      <td>Overall Study</td>\n",
       "      <td>Adverse Event</td>\n",
       "      <td>5</td>\n",
       "      <td>NaN</td>\n",
       "      <td>NaN</td>\n",
       "      <td>NaN</td>\n",
       "    </tr>\n",
       "    <tr>\n",
       "      <th>1</th>\n",
       "      <td>5991140</td>\n",
       "      <td>NCT00827372</td>\n",
       "      <td>9120733</td>\n",
       "      <td>FG000</td>\n",
       "      <td>Overall Study</td>\n",
       "      <td>Lack of Efficacy</td>\n",
       "      <td>3</td>\n",
       "      <td>NaN</td>\n",
       "      <td>NaN</td>\n",
       "      <td>NaN</td>\n",
       "    </tr>\n",
       "    <tr>\n",
       "      <th>2</th>\n",
       "      <td>5991141</td>\n",
       "      <td>NCT01982760</td>\n",
       "      <td>9120734</td>\n",
       "      <td>FG000</td>\n",
       "      <td>Overall Study</td>\n",
       "      <td>Physician Decision</td>\n",
       "      <td>1</td>\n",
       "      <td>NaN</td>\n",
       "      <td>NaN</td>\n",
       "      <td>NaN</td>\n",
       "    </tr>\n",
       "    <tr>\n",
       "      <th>3</th>\n",
       "      <td>5991142</td>\n",
       "      <td>NCT01982760</td>\n",
       "      <td>9120735</td>\n",
       "      <td>FG001</td>\n",
       "      <td>Overall Study</td>\n",
       "      <td>Physician Decision</td>\n",
       "      <td>0</td>\n",
       "      <td>NaN</td>\n",
       "      <td>NaN</td>\n",
       "      <td>NaN</td>\n",
       "    </tr>\n",
       "    <tr>\n",
       "      <th>4</th>\n",
       "      <td>5991143</td>\n",
       "      <td>NCT01056276</td>\n",
       "      <td>9120736</td>\n",
       "      <td>FG000</td>\n",
       "      <td>Treatment Period-Cycles 1-8</td>\n",
       "      <td>Toxicity</td>\n",
       "      <td>2</td>\n",
       "      <td>NaN</td>\n",
       "      <td>NaN</td>\n",
       "      <td>NaN</td>\n",
       "    </tr>\n",
       "    <tr>\n",
       "      <th>5</th>\n",
       "      <td>5991144</td>\n",
       "      <td>NCT01056276</td>\n",
       "      <td>9120737</td>\n",
       "      <td>FG001</td>\n",
       "      <td>Treatment Period-Cycles 1-8</td>\n",
       "      <td>Toxicity</td>\n",
       "      <td>1</td>\n",
       "      <td>NaN</td>\n",
       "      <td>NaN</td>\n",
       "      <td>NaN</td>\n",
       "    </tr>\n",
       "    <tr>\n",
       "      <th>6</th>\n",
       "      <td>5991145</td>\n",
       "      <td>NCT01056276</td>\n",
       "      <td>9120736</td>\n",
       "      <td>FG000</td>\n",
       "      <td>Treatment Period-Cycles 1-8</td>\n",
       "      <td>Withdrawal by Subject</td>\n",
       "      <td>1</td>\n",
       "      <td>NaN</td>\n",
       "      <td>NaN</td>\n",
       "      <td>NaN</td>\n",
       "    </tr>\n",
       "    <tr>\n",
       "      <th>7</th>\n",
       "      <td>5991146</td>\n",
       "      <td>NCT01056276</td>\n",
       "      <td>9120737</td>\n",
       "      <td>FG001</td>\n",
       "      <td>Treatment Period-Cycles 1-8</td>\n",
       "      <td>Withdrawal by Subject</td>\n",
       "      <td>2</td>\n",
       "      <td>NaN</td>\n",
       "      <td>NaN</td>\n",
       "      <td>NaN</td>\n",
       "    </tr>\n",
       "    <tr>\n",
       "      <th>8</th>\n",
       "      <td>5991147</td>\n",
       "      <td>NCT01056276</td>\n",
       "      <td>9120736</td>\n",
       "      <td>FG000</td>\n",
       "      <td>Treatment Period-Cycles 1-8</td>\n",
       "      <td>Disease Progression</td>\n",
       "      <td>2</td>\n",
       "      <td>NaN</td>\n",
       "      <td>NaN</td>\n",
       "      <td>NaN</td>\n",
       "    </tr>\n",
       "    <tr>\n",
       "      <th>9</th>\n",
       "      <td>5991148</td>\n",
       "      <td>NCT01056276</td>\n",
       "      <td>9120737</td>\n",
       "      <td>FG001</td>\n",
       "      <td>Treatment Period-Cycles 1-8</td>\n",
       "      <td>Disease Progression</td>\n",
       "      <td>2</td>\n",
       "      <td>NaN</td>\n",
       "      <td>NaN</td>\n",
       "      <td>NaN</td>\n",
       "    </tr>\n",
       "  </tbody>\n",
       "</table>\n",
       "</div>"
      ],
      "text/plain": [
       "        id       nct_id  result_group_id ctgov_group_code  \\\n",
       "0  5991139  NCT00827372          9120733            FG000   \n",
       "1  5991140  NCT00827372          9120733            FG000   \n",
       "2  5991141  NCT01982760          9120734            FG000   \n",
       "3  5991142  NCT01982760          9120735            FG001   \n",
       "4  5991143  NCT01056276          9120736            FG000   \n",
       "5  5991144  NCT01056276          9120737            FG001   \n",
       "6  5991145  NCT01056276          9120736            FG000   \n",
       "7  5991146  NCT01056276          9120737            FG001   \n",
       "8  5991147  NCT01056276          9120736            FG000   \n",
       "9  5991148  NCT01056276          9120737            FG001   \n",
       "\n",
       "                        period                 reason  count  \\\n",
       "0                Overall Study          Adverse Event      5   \n",
       "1                Overall Study       Lack of Efficacy      3   \n",
       "2                Overall Study     Physician Decision      1   \n",
       "3                Overall Study     Physician Decision      0   \n",
       "4  Treatment Period-Cycles 1-8               Toxicity      2   \n",
       "5  Treatment Period-Cycles 1-8               Toxicity      1   \n",
       "6  Treatment Period-Cycles 1-8  Withdrawal by Subject      1   \n",
       "7  Treatment Period-Cycles 1-8  Withdrawal by Subject      2   \n",
       "8  Treatment Period-Cycles 1-8    Disease Progression      2   \n",
       "9  Treatment Period-Cycles 1-8    Disease Progression      2   \n",
       "\n",
       "   drop_withdraw_comment  reason_comment  count_units  \n",
       "0                    NaN             NaN          NaN  \n",
       "1                    NaN             NaN          NaN  \n",
       "2                    NaN             NaN          NaN  \n",
       "3                    NaN             NaN          NaN  \n",
       "4                    NaN             NaN          NaN  \n",
       "5                    NaN             NaN          NaN  \n",
       "6                    NaN             NaN          NaN  \n",
       "7                    NaN             NaN          NaN  \n",
       "8                    NaN             NaN          NaN  \n",
       "9                    NaN             NaN          NaN  "
      ]
     },
     "execution_count": 14,
     "metadata": {},
     "output_type": "execute_result"
    }
   ],
   "source": [
    "df.head(10)"
   ]
  },
  {
   "cell_type": "code",
   "execution_count": 14,
   "metadata": {},
   "outputs": [],
   "source": [
    "df = df.drop(columns=['id','result_group_id','ctgov_group_code','drop_withdraw_comment','reason_comment','count_units'])"
   ]
  },
  {
   "cell_type": "code",
   "execution_count": 18,
   "metadata": {},
   "outputs": [],
   "source": [
    "import pandas as pd\n",
    "\n",
    "file_path = 'facilities.txt'\n",
    "df1 = pd.read_csv(file_path, sep = \"|\")"
   ]
  },
  {
   "cell_type": "code",
   "execution_count": 21,
   "metadata": {},
   "outputs": [
    {
     "name": "stdout",
     "output_type": "stream",
     "text": [
      "(3085464, 5)\n"
     ]
    }
   ],
   "source": [
    "print(df1.shape)"
   ]
  },
  {
   "cell_type": "code",
   "execution_count": 20,
   "metadata": {},
   "outputs": [],
   "source": [
    "# we will be using the country column from this dataset - facilities\n",
    "df1 = df1.drop(columns=['id','city','zip'])"
   ]
  },
  {
   "cell_type": "code",
   "execution_count": 22,
   "metadata": {},
   "outputs": [],
   "source": [
    "df1.to_csv('facilities_drop.txt', index=False, sep='|')"
   ]
  },
  {
   "cell_type": "code",
   "execution_count": 1,
   "metadata": {},
   "outputs": [],
   "source": [
    "import pandas as pd\n",
    "\n",
    "file_path = 'reported_events.txt'\n",
    "df2 = pd.read_csv(file_path, sep = \"|\")"
   ]
  },
  {
   "cell_type": "code",
   "execution_count": 2,
   "metadata": {},
   "outputs": [
    {
     "name": "stdout",
     "output_type": "stream",
     "text": [
      "(9284467, 17)\n"
     ]
    }
   ],
   "source": [
    "print(df2.shape)"
   ]
  },
  {
   "cell_type": "code",
   "execution_count": 5,
   "metadata": {},
   "outputs": [],
   "source": [
    "df2 = df2.drop(columns=['id','result_group_id','ctgov_group_code','default_vocab','default_assessment'])"
   ]
  },
  {
   "cell_type": "code",
   "execution_count": 6,
   "metadata": {},
   "outputs": [],
   "source": [
    "df2.to_csv('reported_events_drop.txt', index=False, sep='|')"
   ]
  },
  {
   "cell_type": "code",
   "execution_count": 7,
   "metadata": {},
   "outputs": [],
   "source": [
    "import pandas as pd\n",
    "\n",
    "file_path = 'eligibilities.txt'\n",
    "df3 = pd.read_csv(file_path, sep = \"|\")"
   ]
  },
  {
   "cell_type": "code",
   "execution_count": 8,
   "metadata": {},
   "outputs": [
    {
     "name": "stdout",
     "output_type": "stream",
     "text": [
      "(502301, 14)\n"
     ]
    }
   ],
   "source": [
    "print(df3.shape)"
   ]
  },
  {
   "cell_type": "code",
   "execution_count": 9,
   "metadata": {},
   "outputs": [],
   "source": [
    "df3 = df3.drop(columns=['id','gender','gender_based'])"
   ]
  },
  {
   "cell_type": "code",
   "execution_count": 10,
   "metadata": {},
   "outputs": [],
   "source": [
    "df3.to_csv('eligibilities_drop.txt', index=False, sep='|')"
   ]
  },
  {
   "cell_type": "markdown",
   "metadata": {},
   "source": [
    "Testing samples - what works best for our merged data"
   ]
  },
  {
   "cell_type": "code",
   "execution_count": 29,
   "metadata": {},
   "outputs": [
    {
     "name": "stdout",
     "output_type": "stream",
     "text": [
      "             nct_id          reason_drop_withdrawals\n",
      "114242  NCT00827372  Adverse Event; Lack of Efficacy\n"
     ]
    }
   ],
   "source": [
    "result = data[data['nct_id'] == 'NCT00827372']\n",
    "print(result[['nct_id', 'reason_drop_withdrawals']])\n"
   ]
  },
  {
   "cell_type": "code",
   "execution_count": 31,
   "metadata": {},
   "outputs": [
    {
     "name": "stdout",
     "output_type": "stream",
     "text": [
      "                              reason_drop_withdrawals\n",
      "62  Adverse Event; Lost to Follow-up; Noncomplianc...\n"
     ]
    }
   ],
   "source": [
    "result1 = data[data['nct_id'] == 'NCT03175367']\n",
    "print(result1[['reason_drop_withdrawals']])\n"
   ]
  },
  {
   "cell_type": "markdown",
   "metadata": {},
   "source": [
    "Test examples to see what works best"
   ]
  },
  {
   "cell_type": "code",
   "execution_count": 34,
   "metadata": {},
   "outputs": [
    {
     "name": "stdout",
     "output_type": "stream",
     "text": [
      "        nct_id                            reason_drop_withdrawals  \\\n",
      "0  NCT00827372                    Adverse Event; Lack of Efficacy   \n",
      "1  NCT03175367  Adverse Event; Lost to Follow-up; Noncomplianc...   \n",
      "\n",
      "    Lack of Efficacy   Lost to Follow-up   Noncompliance with protocol  \\\n",
      "0                  1                   0                             0   \n",
      "1                  0                   1                             1   \n",
      "\n",
      "    Physician Decision   Protocol Violation   Withdrawal by Subject  \\\n",
      "0                    0                    0                       0   \n",
      "1                    1                    1                       1   \n",
      "\n",
      "   Adverse Event  \n",
      "0              1  \n",
      "1              1  \n"
     ]
    }
   ],
   "source": [
    "from sklearn.preprocessing import MultiLabelBinarizer\n",
    "import pandas as pd\n",
    "\n",
    "data = pd.DataFrame({\n",
    "    'nct_id': ['NCT00827372', 'NCT03175367'],\n",
    "    'reason_drop_withdrawals': [\n",
    "        'Adverse Event; Lack of Efficacy',\n",
    "        'Adverse Event; Lost to Follow-up; Noncompliance with protocol; Physician Decision; Protocol Violation; Withdrawal by Subject'\n",
    "    ]\n",
    "})\n",
    "\n",
    "data['reason_drop_withdrawals'] = data['reason_drop_withdrawals'].fillna('')\n",
    "\n",
    "reasons_split = data['reason_drop_withdrawals'].str.split(';')\n",
    "\n",
    "mlb = MultiLabelBinarizer()\n",
    "reasons_encoded = mlb.fit_transform(reasons_split)\n",
    "\n",
    "reason_df = pd.DataFrame(reasons_encoded, columns=mlb.classes_)\n",
    "\n",
    "training_data = pd.concat([data, reason_df], axis=1)\n",
    "\n",
    "print(training_data)\n"
   ]
  },
  {
   "cell_type": "markdown",
   "metadata": {},
   "source": [
    "The data was merged in {1_merge_files.ipynb} file"
   ]
  },
  {
   "cell_type": "code",
   "execution_count": 31,
   "metadata": {},
   "outputs": [
    {
     "name": "stderr",
     "output_type": "stream",
     "text": [
      "C:\\Users\\yuvik\\AppData\\Local\\Temp\\ipykernel_28964\\1284873162.py:2: DtypeWarning: Columns (0,13,19,20,21,22,23,24,26,27,28,36,37,38,39,40,42,46,203,204,206,207,208,209,210,211,212,213,214,225,226,227,229,232) have mixed types. Specify dtype option on import or set low_memory=False.\n",
      "  data = pd.read_csv(\"pakka_final.csv\")\n"
     ]
    }
   ],
   "source": [
    "import pandas as pd\n",
    "data = pd.read_csv(\"pakka_final.csv\") # properly merged data"
   ]
  },
  {
   "cell_type": "code",
   "execution_count": 33,
   "metadata": {},
   "outputs": [
    {
     "data": {
      "text/html": [
       "<div>\n",
       "<style scoped>\n",
       "    .dataframe tbody tr th:only-of-type {\n",
       "        vertical-align: middle;\n",
       "    }\n",
       "\n",
       "    .dataframe tbody tr th {\n",
       "        vertical-align: top;\n",
       "    }\n",
       "\n",
       "    .dataframe thead th {\n",
       "        text-align: right;\n",
       "    }\n",
       "</style>\n",
       "<table border=\"1\" class=\"dataframe\">\n",
       "  <thead>\n",
       "    <tr style=\"text-align: right;\">\n",
       "      <th></th>\n",
       "      <th>Unnamed: 0</th>\n",
       "      <th>NCT Number</th>\n",
       "      <th>Study Title</th>\n",
       "      <th>Study Status</th>\n",
       "      <th>Brief Summary</th>\n",
       "      <th>Study Results</th>\n",
       "      <th>Conditions</th>\n",
       "      <th>Interventions</th>\n",
       "      <th>Primary Outcome Measures</th>\n",
       "      <th>Secondary Outcome Measures</th>\n",
       "      <th>...</th>\n",
       "      <th>reason_personal_reasons</th>\n",
       "      <th>reason_ongoing</th>\n",
       "      <th>reason_serious_adverse_event</th>\n",
       "      <th>reason_withdrawal_of_consent</th>\n",
       "      <th>reason_progressive_disease</th>\n",
       "      <th>reason_other_than_specified</th>\n",
       "      <th>reason_abnormal_laboratory_value(s)</th>\n",
       "      <th>reason_missing</th>\n",
       "      <th>reason_unclassified</th>\n",
       "      <th>Unnamed: 285</th>\n",
       "    </tr>\n",
       "  </thead>\n",
       "  <tbody>\n",
       "    <tr>\n",
       "      <th>0</th>\n",
       "      <td>0</td>\n",
       "      <td>NCT00559130</td>\n",
       "      <td>Efficacy Study of CytoSorb Hemoperfusion Devic...</td>\n",
       "      <td>COMPLETED</td>\n",
       "      <td>The hypothesis of this study is use of CytoSor...</td>\n",
       "      <td>NO</td>\n",
       "      <td>Acute Respiratory Distress Syndrome|Acute Lung...</td>\n",
       "      <td>DEVICE: CytoSorb Hemoperfusion</td>\n",
       "      <td>Relative IL-6 levels as a percent (%) of basel...</td>\n",
       "      <td>Ventilator Free Days, Reduction cytokines TNF-...</td>\n",
       "      <td>...</td>\n",
       "      <td>0.0</td>\n",
       "      <td>0.0</td>\n",
       "      <td>0.0</td>\n",
       "      <td>0.0</td>\n",
       "      <td>0.0</td>\n",
       "      <td>0.0</td>\n",
       "      <td>0.0</td>\n",
       "      <td>0.0</td>\n",
       "      <td>0.0</td>\n",
       "      <td>NaN</td>\n",
       "    </tr>\n",
       "    <tr>\n",
       "      <th>1</th>\n",
       "      <td>1</td>\n",
       "      <td>NCT00937664</td>\n",
       "      <td>Safety and Tolerability Study of AZD7762 in Co...</td>\n",
       "      <td>NON COMPLETED</td>\n",
       "      <td>The primary purpose of this study is to find o...</td>\n",
       "      <td>NO</td>\n",
       "      <td>Cancer|Solid Tumors|Advanced Solid Malignancies</td>\n",
       "      <td>DRUG: AZD7762|DRUG: gemcitabine</td>\n",
       "      <td>Assessment of adverse events (based on CTCAE v...</td>\n",
       "      <td>Pharmacokinetic effect of AZD7762 when adminis...</td>\n",
       "      <td>...</td>\n",
       "      <td>0.0</td>\n",
       "      <td>0.0</td>\n",
       "      <td>0.0</td>\n",
       "      <td>0.0</td>\n",
       "      <td>0.0</td>\n",
       "      <td>0.0</td>\n",
       "      <td>0.0</td>\n",
       "      <td>0.0</td>\n",
       "      <td>0.0</td>\n",
       "      <td>NaN</td>\n",
       "    </tr>\n",
       "    <tr>\n",
       "      <th>2</th>\n",
       "      <td>2</td>\n",
       "      <td>NCT00441597</td>\n",
       "      <td>Does Atorvastatin Reduce Ischemia-Reperfusion ...</td>\n",
       "      <td>COMPLETED</td>\n",
       "      <td>To study the impact of 3 day exposure to atorv...</td>\n",
       "      <td>NO</td>\n",
       "      <td>Ischemia Reperfusion Injury|Cardiovascular Dis...</td>\n",
       "      <td>DRUG: atorvastatin</td>\n",
       "      <td>Annexin A 5 targeting in the non dominant then...</td>\n",
       "      <td>workload during ischemic exercise, workload du...</td>\n",
       "      <td>...</td>\n",
       "      <td>0.0</td>\n",
       "      <td>0.0</td>\n",
       "      <td>0.0</td>\n",
       "      <td>0.0</td>\n",
       "      <td>0.0</td>\n",
       "      <td>0.0</td>\n",
       "      <td>0.0</td>\n",
       "      <td>0.0</td>\n",
       "      <td>0.0</td>\n",
       "      <td>NaN</td>\n",
       "    </tr>\n",
       "    <tr>\n",
       "      <th>3</th>\n",
       "      <td>3</td>\n",
       "      <td>NCT03296228</td>\n",
       "      <td>Comparison of Dynamic Radiographs in Determini...</td>\n",
       "      <td>COMPLETED</td>\n",
       "      <td>The purpose of this study is to identify the f...</td>\n",
       "      <td>NO</td>\n",
       "      <td>Adolescent Idiopathic Scoliosis</td>\n",
       "      <td>RADIATION: Flexibility Radiographs (supine, su...</td>\n",
       "      <td>Investigate the flexibility equivalence of dif...</td>\n",
       "      <td>Incorporate these findings into the Lenke Clas...</td>\n",
       "      <td>...</td>\n",
       "      <td>0.0</td>\n",
       "      <td>0.0</td>\n",
       "      <td>0.0</td>\n",
       "      <td>0.0</td>\n",
       "      <td>0.0</td>\n",
       "      <td>0.0</td>\n",
       "      <td>0.0</td>\n",
       "      <td>0.0</td>\n",
       "      <td>0.0</td>\n",
       "      <td>NaN</td>\n",
       "    </tr>\n",
       "    <tr>\n",
       "      <th>4</th>\n",
       "      <td>4</td>\n",
       "      <td>NCT00421603</td>\n",
       "      <td>A Placebo-Controlled Study of Mixed Amphetamin...</td>\n",
       "      <td>COMPLETED</td>\n",
       "      <td>The proposed protocol is a double-blind, place...</td>\n",
       "      <td>YES</td>\n",
       "      <td>Cocaine Dependence</td>\n",
       "      <td>DRUG: Adderall-XR and Topiramate|DRUG: Placebo</td>\n",
       "      <td>Three Weeks of Continuous Cocaine Abstinence a...</td>\n",
       "      <td>NaN</td>\n",
       "      <td>...</td>\n",
       "      <td>0.0</td>\n",
       "      <td>0.0</td>\n",
       "      <td>0.0</td>\n",
       "      <td>0.0</td>\n",
       "      <td>0.0</td>\n",
       "      <td>0.0</td>\n",
       "      <td>0.0</td>\n",
       "      <td>0.0</td>\n",
       "      <td>0.0</td>\n",
       "      <td>NaN</td>\n",
       "    </tr>\n",
       "    <tr>\n",
       "      <th>...</th>\n",
       "      <td>...</td>\n",
       "      <td>...</td>\n",
       "      <td>...</td>\n",
       "      <td>...</td>\n",
       "      <td>...</td>\n",
       "      <td>...</td>\n",
       "      <td>...</td>\n",
       "      <td>...</td>\n",
       "      <td>...</td>\n",
       "      <td>...</td>\n",
       "      <td>...</td>\n",
       "      <td>...</td>\n",
       "      <td>...</td>\n",
       "      <td>...</td>\n",
       "      <td>...</td>\n",
       "      <td>...</td>\n",
       "      <td>...</td>\n",
       "      <td>...</td>\n",
       "      <td>...</td>\n",
       "      <td>...</td>\n",
       "      <td>...</td>\n",
       "    </tr>\n",
       "    <tr>\n",
       "      <th>258032</th>\n",
       "      <td>257572</td>\n",
       "      <td>NCT02360800</td>\n",
       "      <td>Trial Comparing Tisseel as an Adjunct to Tradi...</td>\n",
       "      <td>COMPLETED</td>\n",
       "      <td>Bleeding after redo cardiac surgery is a commo...</td>\n",
       "      <td>NO</td>\n",
       "      <td>Hemorrhage</td>\n",
       "      <td>PROCEDURE: Spray Fibrin Sealant|PROCEDURE: Tra...</td>\n",
       "      <td>Bleeding (Amount of blood (ml) collected in ch...</td>\n",
       "      <td>Allogeneic blood Sparing (Amount of Allogeneic...</td>\n",
       "      <td>...</td>\n",
       "      <td>0.0</td>\n",
       "      <td>0.0</td>\n",
       "      <td>0.0</td>\n",
       "      <td>0.0</td>\n",
       "      <td>0.0</td>\n",
       "      <td>0.0</td>\n",
       "      <td>0.0</td>\n",
       "      <td>0.0</td>\n",
       "      <td>0.0</td>\n",
       "      <td>NaN</td>\n",
       "    </tr>\n",
       "    <tr>\n",
       "      <th>258033</th>\n",
       "      <td>257573</td>\n",
       "      <td>NCT02352506</td>\n",
       "      <td>Serum MIF in Acute Kidney Injury</td>\n",
       "      <td>COMPLETED</td>\n",
       "      <td>Acute kidney injury (AKI) is a common complica...</td>\n",
       "      <td>NO</td>\n",
       "      <td>Acute Kidney Injury</td>\n",
       "      <td>OTHER: Blood draw for measurement of MIF</td>\n",
       "      <td>Macrophage migration inhibitory factor, Up to ...</td>\n",
       "      <td>Serum creatinine, Up to 14 days</td>\n",
       "      <td>...</td>\n",
       "      <td>0.0</td>\n",
       "      <td>0.0</td>\n",
       "      <td>0.0</td>\n",
       "      <td>0.0</td>\n",
       "      <td>0.0</td>\n",
       "      <td>0.0</td>\n",
       "      <td>0.0</td>\n",
       "      <td>0.0</td>\n",
       "      <td>0.0</td>\n",
       "      <td>NaN</td>\n",
       "    </tr>\n",
       "    <tr>\n",
       "      <th>258034</th>\n",
       "      <td>257574</td>\n",
       "      <td>NCT04996381</td>\n",
       "      <td>Feasibility of AI-based Heart Function Predict...</td>\n",
       "      <td>COMPLETED</td>\n",
       "      <td>The investigators will develop an artificial i...</td>\n",
       "      <td>NO</td>\n",
       "      <td>Chest X-ray for Clinical Evaluation</td>\n",
       "      <td>DIAGNOSTIC_TEST: Scanning Chest X-rays and per...</td>\n",
       "      <td>Left Ventricular Ejection Fraction &lt; 40%, Eval...</td>\n",
       "      <td>NaN</td>\n",
       "      <td>...</td>\n",
       "      <td>0.0</td>\n",
       "      <td>0.0</td>\n",
       "      <td>0.0</td>\n",
       "      <td>0.0</td>\n",
       "      <td>0.0</td>\n",
       "      <td>0.0</td>\n",
       "      <td>0.0</td>\n",
       "      <td>0.0</td>\n",
       "      <td>0.0</td>\n",
       "      <td>NaN</td>\n",
       "    </tr>\n",
       "    <tr>\n",
       "      <th>258035</th>\n",
       "      <td>257575</td>\n",
       "      <td>NCT00380640</td>\n",
       "      <td>The Efficacy of Trimethoprim in Wound Healing ...</td>\n",
       "      <td>COMPLETED</td>\n",
       "      <td>The purpose of this study is to assess the eff...</td>\n",
       "      <td>NO</td>\n",
       "      <td>Epidermolysis Bullosa</td>\n",
       "      <td>DRUG: Trimethoprim|DRUG: Trimethoprim</td>\n",
       "      <td>Percentage change of area of the wound from vi...</td>\n",
       "      <td>Total number of blisters at each visit, At 2 m...</td>\n",
       "      <td>...</td>\n",
       "      <td>0.0</td>\n",
       "      <td>0.0</td>\n",
       "      <td>0.0</td>\n",
       "      <td>0.0</td>\n",
       "      <td>0.0</td>\n",
       "      <td>0.0</td>\n",
       "      <td>0.0</td>\n",
       "      <td>0.0</td>\n",
       "      <td>0.0</td>\n",
       "      <td>NaN</td>\n",
       "    </tr>\n",
       "    <tr>\n",
       "      <th>258036</th>\n",
       "      <td>257576</td>\n",
       "      <td>NCT01844336</td>\n",
       "      <td>PBASE System Idiopathic Rhinitis Clinical Inve...</td>\n",
       "      <td>COMPLETED</td>\n",
       "      <td>The purpose of this study is to evaluate the p...</td>\n",
       "      <td>NO</td>\n",
       "      <td>Idiopathic Rhinitis</td>\n",
       "      <td>DEVICE: PBASE system 1.1 + CT100 (active treat...</td>\n",
       "      <td>Change in total vasomotor rhinitis symptom sco...</td>\n",
       "      <td>NaN</td>\n",
       "      <td>...</td>\n",
       "      <td>0.0</td>\n",
       "      <td>0.0</td>\n",
       "      <td>0.0</td>\n",
       "      <td>0.0</td>\n",
       "      <td>0.0</td>\n",
       "      <td>0.0</td>\n",
       "      <td>0.0</td>\n",
       "      <td>0.0</td>\n",
       "      <td>0.0</td>\n",
       "      <td>NaN</td>\n",
       "    </tr>\n",
       "  </tbody>\n",
       "</table>\n",
       "<p>258037 rows × 286 columns</p>\n",
       "</div>"
      ],
      "text/plain": [
       "       Unnamed: 0   NCT Number  \\\n",
       "0               0  NCT00559130   \n",
       "1               1  NCT00937664   \n",
       "2               2  NCT00441597   \n",
       "3               3  NCT03296228   \n",
       "4               4  NCT00421603   \n",
       "...           ...          ...   \n",
       "258032     257572  NCT02360800   \n",
       "258033     257573  NCT02352506   \n",
       "258034     257574  NCT04996381   \n",
       "258035     257575  NCT00380640   \n",
       "258036     257576  NCT01844336   \n",
       "\n",
       "                                              Study Title   Study Status  \\\n",
       "0       Efficacy Study of CytoSorb Hemoperfusion Devic...      COMPLETED   \n",
       "1       Safety and Tolerability Study of AZD7762 in Co...  NON COMPLETED   \n",
       "2       Does Atorvastatin Reduce Ischemia-Reperfusion ...      COMPLETED   \n",
       "3       Comparison of Dynamic Radiographs in Determini...      COMPLETED   \n",
       "4       A Placebo-Controlled Study of Mixed Amphetamin...      COMPLETED   \n",
       "...                                                   ...            ...   \n",
       "258032  Trial Comparing Tisseel as an Adjunct to Tradi...      COMPLETED   \n",
       "258033                   Serum MIF in Acute Kidney Injury      COMPLETED   \n",
       "258034  Feasibility of AI-based Heart Function Predict...      COMPLETED   \n",
       "258035  The Efficacy of Trimethoprim in Wound Healing ...      COMPLETED   \n",
       "258036  PBASE System Idiopathic Rhinitis Clinical Inve...      COMPLETED   \n",
       "\n",
       "                                            Brief Summary Study Results  \\\n",
       "0       The hypothesis of this study is use of CytoSor...            NO   \n",
       "1       The primary purpose of this study is to find o...            NO   \n",
       "2       To study the impact of 3 day exposure to atorv...            NO   \n",
       "3       The purpose of this study is to identify the f...            NO   \n",
       "4       The proposed protocol is a double-blind, place...           YES   \n",
       "...                                                   ...           ...   \n",
       "258032  Bleeding after redo cardiac surgery is a commo...            NO   \n",
       "258033  Acute kidney injury (AKI) is a common complica...            NO   \n",
       "258034  The investigators will develop an artificial i...            NO   \n",
       "258035  The purpose of this study is to assess the eff...            NO   \n",
       "258036  The purpose of this study is to evaluate the p...            NO   \n",
       "\n",
       "                                               Conditions  \\\n",
       "0       Acute Respiratory Distress Syndrome|Acute Lung...   \n",
       "1         Cancer|Solid Tumors|Advanced Solid Malignancies   \n",
       "2       Ischemia Reperfusion Injury|Cardiovascular Dis...   \n",
       "3                         Adolescent Idiopathic Scoliosis   \n",
       "4                                      Cocaine Dependence   \n",
       "...                                                   ...   \n",
       "258032                                         Hemorrhage   \n",
       "258033                                Acute Kidney Injury   \n",
       "258034                Chest X-ray for Clinical Evaluation   \n",
       "258035                              Epidermolysis Bullosa   \n",
       "258036                                Idiopathic Rhinitis   \n",
       "\n",
       "                                            Interventions  \\\n",
       "0                          DEVICE: CytoSorb Hemoperfusion   \n",
       "1                         DRUG: AZD7762|DRUG: gemcitabine   \n",
       "2                                      DRUG: atorvastatin   \n",
       "3       RADIATION: Flexibility Radiographs (supine, su...   \n",
       "4          DRUG: Adderall-XR and Topiramate|DRUG: Placebo   \n",
       "...                                                   ...   \n",
       "258032  PROCEDURE: Spray Fibrin Sealant|PROCEDURE: Tra...   \n",
       "258033           OTHER: Blood draw for measurement of MIF   \n",
       "258034  DIAGNOSTIC_TEST: Scanning Chest X-rays and per...   \n",
       "258035              DRUG: Trimethoprim|DRUG: Trimethoprim   \n",
       "258036  DEVICE: PBASE system 1.1 + CT100 (active treat...   \n",
       "\n",
       "                                 Primary Outcome Measures  \\\n",
       "0       Relative IL-6 levels as a percent (%) of basel...   \n",
       "1       Assessment of adverse events (based on CTCAE v...   \n",
       "2       Annexin A 5 targeting in the non dominant then...   \n",
       "3       Investigate the flexibility equivalence of dif...   \n",
       "4       Three Weeks of Continuous Cocaine Abstinence a...   \n",
       "...                                                   ...   \n",
       "258032  Bleeding (Amount of blood (ml) collected in ch...   \n",
       "258033  Macrophage migration inhibitory factor, Up to ...   \n",
       "258034  Left Ventricular Ejection Fraction < 40%, Eval...   \n",
       "258035  Percentage change of area of the wound from vi...   \n",
       "258036  Change in total vasomotor rhinitis symptom sco...   \n",
       "\n",
       "                               Secondary Outcome Measures  ...  \\\n",
       "0       Ventilator Free Days, Reduction cytokines TNF-...  ...   \n",
       "1       Pharmacokinetic effect of AZD7762 when adminis...  ...   \n",
       "2       workload during ischemic exercise, workload du...  ...   \n",
       "3       Incorporate these findings into the Lenke Clas...  ...   \n",
       "4                                                     NaN  ...   \n",
       "...                                                   ...  ...   \n",
       "258032  Allogeneic blood Sparing (Amount of Allogeneic...  ...   \n",
       "258033                    Serum creatinine, Up to 14 days  ...   \n",
       "258034                                                NaN  ...   \n",
       "258035  Total number of blisters at each visit, At 2 m...  ...   \n",
       "258036                                                NaN  ...   \n",
       "\n",
       "       reason_personal_reasons reason_ongoing reason_serious_adverse_event  \\\n",
       "0                          0.0            0.0                          0.0   \n",
       "1                          0.0            0.0                          0.0   \n",
       "2                          0.0            0.0                          0.0   \n",
       "3                          0.0            0.0                          0.0   \n",
       "4                          0.0            0.0                          0.0   \n",
       "...                        ...            ...                          ...   \n",
       "258032                     0.0            0.0                          0.0   \n",
       "258033                     0.0            0.0                          0.0   \n",
       "258034                     0.0            0.0                          0.0   \n",
       "258035                     0.0            0.0                          0.0   \n",
       "258036                     0.0            0.0                          0.0   \n",
       "\n",
       "       reason_withdrawal_of_consent reason_progressive_disease  \\\n",
       "0                               0.0                        0.0   \n",
       "1                               0.0                        0.0   \n",
       "2                               0.0                        0.0   \n",
       "3                               0.0                        0.0   \n",
       "4                               0.0                        0.0   \n",
       "...                             ...                        ...   \n",
       "258032                          0.0                        0.0   \n",
       "258033                          0.0                        0.0   \n",
       "258034                          0.0                        0.0   \n",
       "258035                          0.0                        0.0   \n",
       "258036                          0.0                        0.0   \n",
       "\n",
       "       reason_other_than_specified reason_abnormal_laboratory_value(s)  \\\n",
       "0                              0.0                                 0.0   \n",
       "1                              0.0                                 0.0   \n",
       "2                              0.0                                 0.0   \n",
       "3                              0.0                                 0.0   \n",
       "4                              0.0                                 0.0   \n",
       "...                            ...                                 ...   \n",
       "258032                         0.0                                 0.0   \n",
       "258033                         0.0                                 0.0   \n",
       "258034                         0.0                                 0.0   \n",
       "258035                         0.0                                 0.0   \n",
       "258036                         0.0                                 0.0   \n",
       "\n",
       "       reason_missing reason_unclassified Unnamed: 285  \n",
       "0                 0.0                 0.0          NaN  \n",
       "1                 0.0                 0.0          NaN  \n",
       "2                 0.0                 0.0          NaN  \n",
       "3                 0.0                 0.0          NaN  \n",
       "4                 0.0                 0.0          NaN  \n",
       "...               ...                 ...          ...  \n",
       "258032            0.0                 0.0          NaN  \n",
       "258033            0.0                 0.0          NaN  \n",
       "258034            0.0                 0.0          NaN  \n",
       "258035            0.0                 0.0          NaN  \n",
       "258036            0.0                 0.0          NaN  \n",
       "\n",
       "[258037 rows x 286 columns]"
      ]
     },
     "execution_count": 33,
     "metadata": {},
     "output_type": "execute_result"
    }
   ],
   "source": [
    "data"
   ]
  },
  {
   "cell_type": "code",
   "execution_count": 35,
   "metadata": {},
   "outputs": [
    {
     "name": "stdout",
     "output_type": "stream",
     "text": [
      "  Unnamed: 0   NCT Number                                        Study Title  \\\n",
      "0          0  NCT00559130  Efficacy Study of CytoSorb Hemoperfusion Devic...   \n",
      "1          1  NCT00937664  Safety and Tolerability Study of AZD7762 in Co...   \n",
      "2          2  NCT00441597  Does Atorvastatin Reduce Ischemia-Reperfusion ...   \n",
      "3          3  NCT03296228  Comparison of Dynamic Radiographs in Determini...   \n",
      "4          4  NCT00421603  A Placebo-Controlled Study of Mixed Amphetamin...   \n",
      "\n",
      "    Study Status                                      Brief Summary  \\\n",
      "0      COMPLETED  The hypothesis of this study is use of CytoSor...   \n",
      "1  NON COMPLETED  The primary purpose of this study is to find o...   \n",
      "2      COMPLETED  To study the impact of 3 day exposure to atorv...   \n",
      "3      COMPLETED  The purpose of this study is to identify the f...   \n",
      "4      COMPLETED  The proposed protocol is a double-blind, place...   \n",
      "\n",
      "  Study Results                                         Conditions  \\\n",
      "0            NO  Acute Respiratory Distress Syndrome|Acute Lung...   \n",
      "1            NO    Cancer|Solid Tumors|Advanced Solid Malignancies   \n",
      "2            NO  Ischemia Reperfusion Injury|Cardiovascular Dis...   \n",
      "3            NO                    Adolescent Idiopathic Scoliosis   \n",
      "4           YES                                 Cocaine Dependence   \n",
      "\n",
      "                                       Interventions  \\\n",
      "0                     DEVICE: CytoSorb Hemoperfusion   \n",
      "1                    DRUG: AZD7762|DRUG: gemcitabine   \n",
      "2                                 DRUG: atorvastatin   \n",
      "3  RADIATION: Flexibility Radiographs (supine, su...   \n",
      "4     DRUG: Adderall-XR and Topiramate|DRUG: Placebo   \n",
      "\n",
      "                            Primary Outcome Measures  \\\n",
      "0  Relative IL-6 levels as a percent (%) of basel...   \n",
      "1  Assessment of adverse events (based on CTCAE v...   \n",
      "2  Annexin A 5 targeting in the non dominant then...   \n",
      "3  Investigate the flexibility equivalence of dif...   \n",
      "4  Three Weeks of Continuous Cocaine Abstinence a...   \n",
      "\n",
      "                          Secondary Outcome Measures  ...  \\\n",
      "0  Ventilator Free Days, Reduction cytokines TNF-...  ...   \n",
      "1  Pharmacokinetic effect of AZD7762 when adminis...  ...   \n",
      "2  workload during ischemic exercise, workload du...  ...   \n",
      "3  Incorporate these findings into the Lenke Clas...  ...   \n",
      "4                                                NaN  ...   \n",
      "\n",
      "  reason_personal_reasons reason_ongoing reason_serious_adverse_event  \\\n",
      "0                     0.0            0.0                          0.0   \n",
      "1                     0.0            0.0                          0.0   \n",
      "2                     0.0            0.0                          0.0   \n",
      "3                     0.0            0.0                          0.0   \n",
      "4                     0.0            0.0                          0.0   \n",
      "\n",
      "  reason_withdrawal_of_consent reason_progressive_disease  \\\n",
      "0                          0.0                        0.0   \n",
      "1                          0.0                        0.0   \n",
      "2                          0.0                        0.0   \n",
      "3                          0.0                        0.0   \n",
      "4                          0.0                        0.0   \n",
      "\n",
      "  reason_other_than_specified reason_abnormal_laboratory_value(s)  \\\n",
      "0                         0.0                                 0.0   \n",
      "1                         0.0                                 0.0   \n",
      "2                         0.0                                 0.0   \n",
      "3                         0.0                                 0.0   \n",
      "4                         0.0                                 0.0   \n",
      "\n",
      "  reason_missing reason_unclassified Unnamed: 285  \n",
      "0            0.0                 0.0          NaN  \n",
      "1            0.0                 0.0          NaN  \n",
      "2            0.0                 0.0          NaN  \n",
      "3            0.0                 0.0          NaN  \n",
      "4            0.0                 0.0          NaN  \n",
      "\n",
      "[5 rows x 286 columns]\n"
     ]
    }
   ],
   "source": [
    "print(data.head())"
   ]
  },
  {
   "cell_type": "code",
   "execution_count": 36,
   "metadata": {},
   "outputs": [
    {
     "name": "stdout",
     "output_type": "stream",
     "text": [
      "Index(['Unnamed: 0', 'NCT Number', 'Study Title', 'Study Status',\n",
      "       'Brief Summary', 'Study Results', 'Conditions', 'Interventions',\n",
      "       'Primary Outcome Measures', 'Secondary Outcome Measures',\n",
      "       ...\n",
      "       'reason_personal_reasons', 'reason_ongoing',\n",
      "       'reason_serious_adverse_event', 'reason_withdrawal_of_consent',\n",
      "       'reason_progressive_disease', 'reason_other_than_specified',\n",
      "       'reason_abnormal_laboratory_value(s)', 'reason_missing',\n",
      "       'reason_unclassified', 'Unnamed: 285'],\n",
      "      dtype='object', length=286)\n"
     ]
    }
   ],
   "source": [
    "print(data.columns)"
   ]
  },
  {
   "cell_type": "code",
   "execution_count": 37,
   "metadata": {},
   "outputs": [
    {
     "name": "stdout",
     "output_type": "stream",
     "text": [
      "(258037, 286)\n"
     ]
    }
   ],
   "source": [
    "print(data.shape)"
   ]
  },
  {
   "cell_type": "code",
   "execution_count": 38,
   "metadata": {},
   "outputs": [
    {
     "name": "stdout",
     "output_type": "stream",
     "text": [
      "<class 'pandas.core.frame.DataFrame'>\n",
      "RangeIndex: 258037 entries, 0 to 258036\n",
      "Columns: 286 entries, Unnamed: 0 to Unnamed: 285\n",
      "dtypes: float64(224), object(62)\n",
      "memory usage: 563.0+ MB\n",
      "None\n"
     ]
    }
   ],
   "source": [
    "print(data.info())"
   ]
  },
  {
   "cell_type": "code",
   "execution_count": 39,
   "metadata": {},
   "outputs": [
    {
     "name": "stdout",
     "output_type": "stream",
     "text": [
      "Unnamed: 0                                232\n",
      "NCT Number                                359\n",
      "Study Title                               277\n",
      "Study Status                              266\n",
      "Brief Summary                             256\n",
      "                                        ...  \n",
      "reason_other_than_specified               690\n",
      "reason_abnormal_laboratory_value(s)       693\n",
      "reason_missing                            693\n",
      "reason_unclassified                       693\n",
      "Unnamed: 285                           258036\n",
      "Length: 286, dtype: int64\n"
     ]
    }
   ],
   "source": [
    "print(data.isnull().sum())"
   ]
  },
  {
   "cell_type": "code",
   "execution_count": 40,
   "metadata": {},
   "outputs": [],
   "source": [
    "data.drop([\"Unnamed: 0\", \"Unnamed: 285\"], axis =1 , inplace = True)"
   ]
  },
  {
   "cell_type": "code",
   "execution_count": 41,
   "metadata": {},
   "outputs": [
    {
     "name": "stdout",
     "output_type": "stream",
     "text": [
      "       country_Poland  country_Hungary  country_Turkey  country_Belgium  \\\n",
      "count   257570.000000    257571.000000   257571.000000    257571.000000   \n",
      "mean         0.021210         0.012517        0.032713         0.029258   \n",
      "std          0.144083         0.111177        0.177886         0.168529   \n",
      "min          0.000000         0.000000        0.000000         0.000000   \n",
      "25%          0.000000         0.000000        0.000000         0.000000   \n",
      "50%          0.000000         0.000000        0.000000         0.000000   \n",
      "75%          0.000000         0.000000        0.000000         0.000000   \n",
      "max          1.000000         1.000000        1.000000         1.000000   \n",
      "\n",
      "       country_Ukraine  country_Taiwan  \\\n",
      "count    257571.000000   257570.000000   \n",
      "mean          0.006468        0.017890   \n",
      "std           0.080164        0.132553   \n",
      "min           0.000000        0.000000   \n",
      "25%           0.000000        0.000000   \n",
      "50%           0.000000        0.000000   \n",
      "75%           0.000000        0.000000   \n",
      "max           1.000000        1.000000   \n",
      "\n",
      "       country_countries with low cumsum value  country_Korea, Republic of  \\\n",
      "count                            257571.000000               257571.000000   \n",
      "mean                                  0.162126                    0.031607   \n",
      "std                                   0.381253                    0.592887   \n",
      "min                                   0.000000                    0.000000   \n",
      "25%                                   0.000000                    0.000000   \n",
      "50%                                   0.000000                    0.000000   \n",
      "75%                                   0.000000                    0.000000   \n",
      "max                                  50.000000                  288.000000   \n",
      "\n",
      "       country_France  country_United States  ...  reason_ineligible  \\\n",
      "count   257570.000000          257570.000000  ...      257568.000000   \n",
      "mean         0.099181               0.400008  ...           0.001153   \n",
      "std         11.759857               0.527091  ...           0.033938   \n",
      "min          0.000000               0.000000  ...           0.000000   \n",
      "25%          0.000000               0.000000  ...           0.000000   \n",
      "50%          0.000000               0.000000  ...           0.000000   \n",
      "75%          0.000000               1.000000  ...           0.000000   \n",
      "max       5948.000000              99.000000  ...           1.000000   \n",
      "\n",
      "       reason_personal_reasons  reason_ongoing  reason_serious_adverse_event  \\\n",
      "count            257415.000000   257358.000000                 257353.000000   \n",
      "mean                  0.000233        0.000225                      0.000268   \n",
      "std                   0.015265        0.015011                      0.016372   \n",
      "min                   0.000000        0.000000                      0.000000   \n",
      "25%                   0.000000        0.000000                      0.000000   \n",
      "50%                   0.000000        0.000000                      0.000000   \n",
      "75%                   0.000000        0.000000                      0.000000   \n",
      "max                   1.000000        1.000000                      1.000000   \n",
      "\n",
      "       reason_withdrawal_of_consent  reason_progressive_disease  \\\n",
      "count                 257348.000000               257347.000000   \n",
      "mean                       0.000773                    0.003509   \n",
      "std                        0.027797                    0.059132   \n",
      "min                        0.000000                    0.000000   \n",
      "25%                        0.000000                    0.000000   \n",
      "50%                        0.000000                    0.000000   \n",
      "75%                        0.000000                    0.000000   \n",
      "max                        1.000000                    1.000000   \n",
      "\n",
      "       reason_other_than_specified  reason_abnormal_laboratory_value(s)  \\\n",
      "count                257347.000000                        257344.000000   \n",
      "mean                      0.000361                             0.000237   \n",
      "std                       0.019007                             0.015394   \n",
      "min                       0.000000                             0.000000   \n",
      "25%                       0.000000                             0.000000   \n",
      "50%                       0.000000                             0.000000   \n",
      "75%                       0.000000                             0.000000   \n",
      "max                       1.000000                             1.000000   \n",
      "\n",
      "       reason_missing  reason_unclassified  \n",
      "count   257344.000000        257344.000000  \n",
      "mean         0.000490             0.000338  \n",
      "std          0.022122             0.018384  \n",
      "min          0.000000             0.000000  \n",
      "25%          0.000000             0.000000  \n",
      "50%          0.000000             0.000000  \n",
      "75%          0.000000             0.000000  \n",
      "max          1.000000             1.000000  \n",
      "\n",
      "[8 rows x 223 columns]\n"
     ]
    }
   ],
   "source": [
    "print(data.describe())"
   ]
  },
  {
   "cell_type": "markdown",
   "metadata": {},
   "source": [
    "Data Preprocessing"
   ]
  },
  {
   "cell_type": "code",
   "execution_count": 42,
   "metadata": {},
   "outputs": [
    {
     "name": "stdout",
     "output_type": "stream",
     "text": [
      "<class 'pandas.core.frame.DataFrame'>\n",
      "RangeIndex: 258037 entries, 0 to 258036\n",
      "Data columns (total 2 columns):\n",
      " #   Column       Non-Null Count   Dtype  \n",
      "---  ------       --------------   -----  \n",
      " 0   maximum_age  131926 non-null  float64\n",
      " 1   minimum_age  231557 non-null  float64\n",
      "dtypes: float64(2)\n",
      "memory usage: 3.9 MB\n",
      "None\n",
      "   maximum_age  minimum_age\n",
      "0         80.0         18.0\n",
      "1         74.0         20.0\n",
      "2         50.0         18.0\n",
      "3         18.0         10.0\n",
      "4         60.0         18.0\n"
     ]
    }
   ],
   "source": [
    "# Removing 'Years' and strip spaces\n",
    "\n",
    "for col in ['maximum_age', 'minimum_age']:\n",
    "    if col in data.columns:\n",
    "        data[col] = data[col].str.replace('Years', '', regex=False).str.strip()\n",
    "        data[col] = pd.to_numeric(data[col], errors='coerce')  \n",
    "\n",
    "print(data[['maximum_age', 'minimum_age']].info())\n",
    "print(data[['maximum_age', 'minimum_age']].head())"
   ]
  },
  {
   "cell_type": "code",
   "execution_count": 43,
   "metadata": {},
   "outputs": [
    {
     "name": "stdout",
     "output_type": "stream",
     "text": [
      "   adult  child  older_adult\n",
      "0    1.0    0.0          1.0\n",
      "1    1.0    0.0          1.0\n",
      "2    1.0    0.0          0.0\n",
      "3    1.0    1.0          0.0\n",
      "4    1.0    0.0          0.0\n"
     ]
    }
   ],
   "source": [
    "binary_columns = ['adult', 'child', 'older_adult']\n",
    "\n",
    "for col in binary_columns:\n",
    "    data[col] = data[col].map({'t': 1, 'f': 0})\n",
    "\n",
    "print(data[binary_columns].head())\n"
   ]
  },
  {
   "cell_type": "code",
   "execution_count": 44,
   "metadata": {},
   "outputs": [
    {
     "name": "stdout",
     "output_type": "stream",
     "text": [
      "f           179625\n",
      "t            72787\n",
      "NaN           5408\n",
      "0              141\n",
      "1               75\n",
      "80 Years         1\n",
      "Name: healthy_volunteers, dtype: int64\n"
     ]
    }
   ],
   "source": [
    "print(data['healthy_volunteers'].value_counts(dropna=False))"
   ]
  },
  {
   "cell_type": "code",
   "execution_count": 45,
   "metadata": {},
   "outputs": [
    {
     "name": "stdout",
     "output_type": "stream",
     "text": [
      "0.0    179625\n",
      "1.0     72787\n",
      "NaN      5625\n",
      "Name: healthy_volunteers, dtype: int64\n"
     ]
    }
   ],
   "source": [
    "import numpy as np\n",
    "\n",
    "def map_healthy_volunteers(value):\n",
    "    if value == 'f':\n",
    "        return 0\n",
    "    elif value == 't':\n",
    "        return 1\n",
    "    elif value == 0 or value == 1:  \n",
    "        return value  \n",
    "    elif pd.isna(value):\n",
    "        return np.nan  \n",
    "    else:\n",
    "        return np.nan  \n",
    "\n",
    "data['healthy_volunteers'] = data['healthy_volunteers'].apply(map_healthy_volunteers)\n",
    "\n",
    "print(data['healthy_volunteers'].value_counts(dropna=False))\n"
   ]
  },
  {
   "cell_type": "code",
   "execution_count": 46,
   "metadata": {},
   "outputs": [
    {
     "name": "stdout",
     "output_type": "stream",
     "text": [
      "0.0    179625\n",
      "1.0     72787\n",
      "NaN      5625\n",
      "Name: healthy_volunteers, dtype: int64\n"
     ]
    }
   ],
   "source": [
    "print(data['healthy_volunteers'].value_counts(dropna=False))"
   ]
  },
  {
   "cell_type": "markdown",
   "metadata": {},
   "source": [
    "HANDLING MISSING VALUES"
   ]
  },
  {
   "cell_type": "code",
   "execution_count": 47,
   "metadata": {},
   "outputs": [
    {
     "name": "stdout",
     "output_type": "stream",
     "text": [
      "gender_description     98.468824\n",
      "time_frame             88.329968\n",
      "subjects_affected      85.167243\n",
      "frequency_threshold    85.166856\n",
      "subjects_at_risk       85.166856\n",
      "                         ...    \n",
      "Study Title             0.107349\n",
      "Study Status            0.103086\n",
      "Brief Summary           0.099211\n",
      "Conditions              0.090685\n",
      "Study Results           0.090685\n",
      "Length: 284, dtype: float64\n"
     ]
    }
   ],
   "source": [
    "missing_values = data.isnull().sum() / len(data) * 100\n",
    "print(missing_values.sort_values(ascending=False))"
   ]
  },
  {
   "cell_type": "code",
   "execution_count": 48,
   "metadata": {},
   "outputs": [
    {
     "name": "stdout",
     "output_type": "stream",
     "text": [
      "time_frame             88.329968\n",
      "subjects_affected      85.167243\n",
      "frequency_threshold    85.166856\n",
      "subjects_at_risk       85.166856\n",
      "population             80.638048\n",
      "                         ...    \n",
      "Study Title             0.107349\n",
      "Study Status            0.103086\n",
      "Brief Summary           0.099211\n",
      "Conditions              0.090685\n",
      "Study Results           0.090685\n",
      "Length: 283, dtype: float64\n"
     ]
    }
   ],
   "source": [
    "data = data.loc[:, missing_values < 90]\n",
    "missing_values = data.isnull().sum() / len(data) * 100\n",
    "print(missing_values.sort_values(ascending=False))"
   ]
  },
  {
   "cell_type": "markdown",
   "metadata": {},
   "source": [
    "Calculating missing value percentages for each group - COMPLETED / NON COMPLETED\n"
   ]
  },
  {
   "cell_type": "code",
   "execution_count": 49,
   "metadata": {},
   "outputs": [
    {
     "name": "stdout",
     "output_type": "stream",
     "text": [
      "                     COMPLETED (%)  NON COMPLETED (%)\n",
      "time_frame               88.508059          87.259138\n",
      "subjects_affected        85.343651          84.106536\n",
      "frequency_threshold      85.343199          84.106536\n",
      "subjects_at_risk         85.343199          84.106536\n",
      "population               79.768760          85.864927\n",
      "...                            ...                ...\n",
      "Study Status              0.000000           0.722924\n",
      "Study Title               0.000000           0.752820\n",
      "Study Results             0.000000           0.635956\n",
      "Conditions                0.000000           0.635956\n",
      "NCT Number                0.000000           0.975676\n",
      "\n",
      "[283 rows x 2 columns]\n"
     ]
    }
   ],
   "source": [
    "def calculate_missing_values_by_group(group):\n",
    "    return group.isnull().sum() / len(group) * 100\n",
    "\n",
    "completed_group = data[data['Study Status'] == 'COMPLETED']\n",
    "non_completed_group = data[data['Study Status'] != 'COMPLETED']\n",
    "\n",
    "missing_completed = calculate_missing_values_by_group(completed_group)\n",
    "missing_non_completed = calculate_missing_values_by_group(non_completed_group)\n",
    "\n",
    "missing_comparison = pd.DataFrame({\n",
    "    'COMPLETED (%)': missing_completed,\n",
    "    'NON COMPLETED (%)': missing_non_completed\n",
    "})\n",
    "\n",
    "missing_comparison = missing_comparison.sort_values(by='COMPLETED (%)', ascending=False)\n",
    "\n",
    "print(missing_comparison)\n"
   ]
  },
  {
   "cell_type": "code",
   "execution_count": 50,
   "metadata": {},
   "outputs": [
    {
     "name": "stdout",
     "output_type": "stream",
     "text": [
      "       country_Poland  country_Hungary  country_Turkey  country_Belgium  \\\n",
      "count   257570.000000    257571.000000   257571.000000    257571.000000   \n",
      "mean         0.021210         0.012517        0.032713         0.029258   \n",
      "std          0.144083         0.111177        0.177886         0.168529   \n",
      "min          0.000000         0.000000        0.000000         0.000000   \n",
      "25%          0.000000         0.000000        0.000000         0.000000   \n",
      "50%          0.000000         0.000000        0.000000         0.000000   \n",
      "75%          0.000000         0.000000        0.000000         0.000000   \n",
      "max          1.000000         1.000000        1.000000         1.000000   \n",
      "\n",
      "       country_Ukraine  country_Taiwan  \\\n",
      "count    257571.000000   257570.000000   \n",
      "mean          0.006468        0.017890   \n",
      "std           0.080164        0.132553   \n",
      "min           0.000000        0.000000   \n",
      "25%           0.000000        0.000000   \n",
      "50%           0.000000        0.000000   \n",
      "75%           0.000000        0.000000   \n",
      "max           1.000000        1.000000   \n",
      "\n",
      "       country_countries with low cumsum value  country_Korea, Republic of  \\\n",
      "count                            257571.000000               257571.000000   \n",
      "mean                                  0.162126                    0.031607   \n",
      "std                                   0.381253                    0.592887   \n",
      "min                                   0.000000                    0.000000   \n",
      "25%                                   0.000000                    0.000000   \n",
      "50%                                   0.000000                    0.000000   \n",
      "75%                                   0.000000                    0.000000   \n",
      "max                                  50.000000                  288.000000   \n",
      "\n",
      "       country_France  country_United States  ...  reason_ineligible  \\\n",
      "count   257570.000000          257570.000000  ...      257568.000000   \n",
      "mean         0.099181               0.400008  ...           0.001153   \n",
      "std         11.759857               0.527091  ...           0.033938   \n",
      "min          0.000000               0.000000  ...           0.000000   \n",
      "25%          0.000000               0.000000  ...           0.000000   \n",
      "50%          0.000000               0.000000  ...           0.000000   \n",
      "75%          0.000000               1.000000  ...           0.000000   \n",
      "max       5948.000000              99.000000  ...           1.000000   \n",
      "\n",
      "       reason_personal_reasons  reason_ongoing  reason_serious_adverse_event  \\\n",
      "count            257415.000000   257358.000000                 257353.000000   \n",
      "mean                  0.000233        0.000225                      0.000268   \n",
      "std                   0.015265        0.015011                      0.016372   \n",
      "min                   0.000000        0.000000                      0.000000   \n",
      "25%                   0.000000        0.000000                      0.000000   \n",
      "50%                   0.000000        0.000000                      0.000000   \n",
      "75%                   0.000000        0.000000                      0.000000   \n",
      "max                   1.000000        1.000000                      1.000000   \n",
      "\n",
      "       reason_withdrawal_of_consent  reason_progressive_disease  \\\n",
      "count                 257348.000000               257347.000000   \n",
      "mean                       0.000773                    0.003509   \n",
      "std                        0.027797                    0.059132   \n",
      "min                        0.000000                    0.000000   \n",
      "25%                        0.000000                    0.000000   \n",
      "50%                        0.000000                    0.000000   \n",
      "75%                        0.000000                    0.000000   \n",
      "max                        1.000000                    1.000000   \n",
      "\n",
      "       reason_other_than_specified  reason_abnormal_laboratory_value(s)  \\\n",
      "count                257347.000000                        257344.000000   \n",
      "mean                      0.000361                             0.000237   \n",
      "std                       0.019007                             0.015394   \n",
      "min                       0.000000                             0.000000   \n",
      "25%                       0.000000                             0.000000   \n",
      "50%                       0.000000                             0.000000   \n",
      "75%                       0.000000                             0.000000   \n",
      "max                       1.000000                             1.000000   \n",
      "\n",
      "       reason_missing  reason_unclassified  \n",
      "count   257344.000000        257344.000000  \n",
      "mean         0.000490             0.000338  \n",
      "std          0.022122             0.018384  \n",
      "min          0.000000             0.000000  \n",
      "25%          0.000000             0.000000  \n",
      "50%          0.000000             0.000000  \n",
      "75%          0.000000             0.000000  \n",
      "max          1.000000             1.000000  \n",
      "\n",
      "[8 rows x 229 columns]\n"
     ]
    }
   ],
   "source": [
    "print(data.describe())"
   ]
  },
  {
   "cell_type": "markdown",
   "metadata": {},
   "source": [
    "HANDLING NULL VALUES"
   ]
  },
  {
   "cell_type": "code",
   "execution_count": 51,
   "metadata": {},
   "outputs": [
    {
     "name": "stdout",
     "output_type": "stream",
     "text": [
      "float64\n"
     ]
    }
   ],
   "source": [
    "print(data[\"minimum_age\"].dtype)"
   ]
  },
  {
   "cell_type": "code",
   "execution_count": 61,
   "metadata": {},
   "outputs": [
    {
     "name": "stderr",
     "output_type": "stream",
     "text": [
      "C:\\Users\\yuvik\\AppData\\Local\\Temp\\ipykernel_28964\\1155625598.py:1: SettingWithCopyWarning: \n",
      "A value is trying to be set on a copy of a slice from a DataFrame.\n",
      "Try using .loc[row_indexer,col_indexer] = value instead\n",
      "\n",
      "See the caveats in the documentation: https://pandas.pydata.org/pandas-docs/stable/user_guide/indexing.html#returning-a-view-versus-a-copy\n",
      "  data[\"Enrollment\"] = pd.to_numeric(data[\"Enrollment\"], errors='coerce')\n"
     ]
    }
   ],
   "source": [
    "data[\"Enrollment\"] = pd.to_numeric(data[\"Enrollment\"], errors='coerce')\n"
   ]
  },
  {
   "cell_type": "code",
   "execution_count": 63,
   "metadata": {},
   "outputs": [
    {
     "data": {
      "text/plain": [
       "dtype('float64')"
      ]
     },
     "execution_count": 63,
     "metadata": {},
     "output_type": "execute_result"
    }
   ],
   "source": [
    "data[\"Enrollment\"].dtype\n"
   ]
  },
  {
   "cell_type": "code",
   "execution_count": 64,
   "metadata": {},
   "outputs": [
    {
     "data": {
      "text/plain": [
       "dtype('O')"
      ]
     },
     "execution_count": 64,
     "metadata": {},
     "output_type": "execute_result"
    }
   ],
   "source": [
    "data['subjects_affected'].dtype"
   ]
  },
  {
   "cell_type": "code",
   "execution_count": 65,
   "metadata": {},
   "outputs": [
    {
     "name": "stderr",
     "output_type": "stream",
     "text": [
      "C:\\Users\\yuvik\\AppData\\Local\\Temp\\ipykernel_28964\\1887721029.py:1: SettingWithCopyWarning: \n",
      "A value is trying to be set on a copy of a slice from a DataFrame.\n",
      "Try using .loc[row_indexer,col_indexer] = value instead\n",
      "\n",
      "See the caveats in the documentation: https://pandas.pydata.org/pandas-docs/stable/user_guide/indexing.html#returning-a-view-versus-a-copy\n",
      "  data[\"subjects_affected\"] = pd.to_numeric(data[\"subjects_affected\"], errors='coerce')\n"
     ]
    }
   ],
   "source": [
    "# changing from object dtype to float - column name : subjects_affected\n",
    "data[\"subjects_affected\"] = pd.to_numeric(data[\"subjects_affected\"], errors='coerce')"
   ]
  },
  {
   "cell_type": "code",
   "execution_count": 67,
   "metadata": {},
   "outputs": [
    {
     "data": {
      "text/plain": [
       "0          NaN\n",
       "1          NaN\n",
       "2          NaN\n",
       "3          NaN\n",
       "4         17.0\n",
       "          ... \n",
       "258032     NaN\n",
       "258033     NaN\n",
       "258034     NaN\n",
       "258035     NaN\n",
       "258036     NaN\n",
       "Name: subjects_affected, Length: 258037, dtype: float64"
      ]
     },
     "execution_count": 67,
     "metadata": {},
     "output_type": "execute_result"
    }
   ],
   "source": [
    "data['subjects_affected']"
   ]
  },
  {
   "cell_type": "code",
   "execution_count": 72,
   "metadata": {},
   "outputs": [
    {
     "data": {
      "text/plain": [
       "dtype('float64')"
      ]
     },
     "execution_count": 72,
     "metadata": {},
     "output_type": "execute_result"
    }
   ],
   "source": [
    "data['maximum_age'].dtype"
   ]
  },
  {
   "cell_type": "markdown",
   "metadata": {},
   "source": [
    "Numerical Columns Imputation"
   ]
  },
  {
   "cell_type": "code",
   "execution_count": 73,
   "metadata": {},
   "outputs": [],
   "source": [
    "numerical_columns = [\n",
    "    'Enrollment', 'subjects_affected', 'subjects_at_risk', 'frequency_threshold',\n",
    "    'minimum_age', 'maximum_age']"
   ]
  },
  {
   "cell_type": "code",
   "execution_count": 75,
   "metadata": {},
   "outputs": [
    {
     "name": "stderr",
     "output_type": "stream",
     "text": [
      "C:\\Users\\yuvik\\AppData\\Local\\Temp\\ipykernel_28964\\95743752.py:4: SettingWithCopyWarning: \n",
      "A value is trying to be set on a copy of a slice from a DataFrame\n",
      "\n",
      "See the caveats in the documentation: https://pandas.pydata.org/pandas-docs/stable/user_guide/indexing.html#returning-a-view-versus-a-copy\n",
      "  data[column].fillna(median_value, inplace=True)\n"
     ]
    }
   ],
   "source": [
    "for column in numerical_columns:\n",
    "    median_value = data[column].median()\n",
    "    data[column].fillna(median_value, inplace=True)"
   ]
  },
  {
   "cell_type": "code",
   "execution_count": 76,
   "metadata": {},
   "outputs": [
    {
     "data": {
      "text/plain": [
       "0          9.0\n",
       "1          9.0\n",
       "2          9.0\n",
       "3          9.0\n",
       "4         17.0\n",
       "          ... \n",
       "258032     9.0\n",
       "258033     9.0\n",
       "258034     9.0\n",
       "258035     9.0\n",
       "258036     9.0\n",
       "Name: subjects_affected, Length: 258037, dtype: float64"
      ]
     },
     "execution_count": 76,
     "metadata": {},
     "output_type": "execute_result"
    }
   ],
   "source": [
    "data['subjects_affected']"
   ]
  },
  {
   "cell_type": "code",
   "execution_count": 77,
   "metadata": {},
   "outputs": [
    {
     "data": {
      "text/plain": [
       "0         100.0\n",
       "1          24.0\n",
       "2          30.0\n",
       "3         134.0\n",
       "4          81.0\n",
       "          ...  \n",
       "258032    120.0\n",
       "258033    500.0\n",
       "258034    505.0\n",
       "258035     10.0\n",
       "258036    208.0\n",
       "Name: Enrollment, Length: 258037, dtype: float64"
      ]
     },
     "execution_count": 77,
     "metadata": {},
     "output_type": "execute_result"
    }
   ],
   "source": [
    "data[\"Enrollment\"]"
   ]
  },
  {
   "cell_type": "markdown",
   "metadata": {},
   "source": [
    "Creating a duration column from the \"Start Date\" and \"Completion Date\" Columns"
   ]
  },
  {
   "cell_type": "code",
   "execution_count": 78,
   "metadata": {},
   "outputs": [
    {
     "name": "stderr",
     "output_type": "stream",
     "text": [
      "C:\\Users\\yuvik\\AppData\\Local\\Temp\\ipykernel_28964\\2534147252.py:9: UserWarning: Parsing dates in DD/MM/YYYY format when dayfirst=False (the default) was specified. This may lead to inconsistently parsed dates! Specify a format to ensure consistent parsing.\n",
      "  data[start_col] = pd.to_datetime(data[start_col], errors='coerce')\n",
      "C:\\Users\\yuvik\\AppData\\Local\\Temp\\ipykernel_28964\\2534147252.py:9: SettingWithCopyWarning: \n",
      "A value is trying to be set on a copy of a slice from a DataFrame.\n",
      "Try using .loc[row_indexer,col_indexer] = value instead\n",
      "\n",
      "See the caveats in the documentation: https://pandas.pydata.org/pandas-docs/stable/user_guide/indexing.html#returning-a-view-versus-a-copy\n",
      "  data[start_col] = pd.to_datetime(data[start_col], errors='coerce')\n",
      "C:\\Users\\yuvik\\AppData\\Local\\Temp\\ipykernel_28964\\2534147252.py:10: UserWarning: Parsing dates in DD/MM/YYYY format when dayfirst=False (the default) was specified. This may lead to inconsistently parsed dates! Specify a format to ensure consistent parsing.\n",
      "  data[end_col] = pd.to_datetime(data[end_col], errors='coerce')\n",
      "C:\\Users\\yuvik\\AppData\\Local\\Temp\\ipykernel_28964\\2534147252.py:10: SettingWithCopyWarning: \n",
      "A value is trying to be set on a copy of a slice from a DataFrame.\n",
      "Try using .loc[row_indexer,col_indexer] = value instead\n",
      "\n",
      "See the caveats in the documentation: https://pandas.pydata.org/pandas-docs/stable/user_guide/indexing.html#returning-a-view-versus-a-copy\n",
      "  data[end_col] = pd.to_datetime(data[end_col], errors='coerce')\n"
     ]
    }
   ],
   "source": [
    "import pandas as pd\n",
    "import numpy as np\n",
    "\n",
    "def calculate_duration(data, start_col='Start Date', end_col='Completion Date'):\n",
    "    \"\"\"\n",
    "    Calculate duration in months between start and completion dates, handling NaN values\n",
    "    \"\"\"\n",
    "    data[start_col] = pd.to_datetime(data[start_col], errors='coerce')\n",
    "    data[end_col] = pd.to_datetime(data[end_col], errors='coerce')\n",
    "    \n",
    "    def month_difference(start, end):\n",
    "        if pd.isna(start) or pd.isna(end):\n",
    "            return np.nan\n",
    "        return abs((end.year - start.year) * 12 + (end.month - start.month))\n",
    "    \n",
    "    data['duration'] = data.apply(lambda row: month_difference(row[start_col], row[end_col]), axis=1)\n",
    "    \n",
    "    return data\n",
    "\n",
    "data = calculate_duration(data)"
   ]
  },
  {
   "cell_type": "code",
   "execution_count": 79,
   "metadata": {},
   "outputs": [
    {
     "data": {
      "text/plain": [
       "0         43.0\n",
       "1         19.0\n",
       "2         25.0\n",
       "3         35.0\n",
       "4         39.0\n",
       "          ... \n",
       "258032    19.0\n",
       "258033    96.0\n",
       "258034     0.0\n",
       "258035    12.0\n",
       "258036     NaN\n",
       "Name: duration, Length: 258037, dtype: float64"
      ]
     },
     "execution_count": 79,
     "metadata": {},
     "output_type": "execute_result"
    }
   ],
   "source": [
    "data[\"duration\"]"
   ]
  },
  {
   "cell_type": "code",
   "execution_count": 80,
   "metadata": {},
   "outputs": [
    {
     "data": {
      "text/plain": [
       "9358"
      ]
     },
     "execution_count": 80,
     "metadata": {},
     "output_type": "execute_result"
    }
   ],
   "source": [
    "data[\"duration\"].isna().sum()"
   ]
  },
  {
   "cell_type": "code",
   "execution_count": 81,
   "metadata": {},
   "outputs": [
    {
     "name": "stdout",
     "output_type": "stream",
     "text": [
      "duration    0\n",
      "dtype: int64\n"
     ]
    }
   ],
   "source": [
    "import numpy as np\n",
    "\n",
    "numerical_columns = [\"duration\"]\n",
    "\n",
    "for column in numerical_columns:\n",
    "    median_value = data[column].median()\n",
    "    data[column].fillna(median_value, inplace=True)\n",
    "\n",
    "print(data[numerical_columns].isnull().sum())\n"
   ]
  },
  {
   "cell_type": "code",
   "execution_count": 82,
   "metadata": {},
   "outputs": [
    {
     "data": {
      "text/plain": [
       "0         43.0\n",
       "1         19.0\n",
       "2         25.0\n",
       "3         35.0\n",
       "4         39.0\n",
       "          ... \n",
       "258032    19.0\n",
       "258033    96.0\n",
       "258034     0.0\n",
       "258035    12.0\n",
       "258036    23.0\n",
       "Name: duration, Length: 258037, dtype: float64"
      ]
     },
     "execution_count": 82,
     "metadata": {},
     "output_type": "execute_result"
    }
   ],
   "source": [
    "data[\"duration\"]"
   ]
  },
  {
   "cell_type": "code",
   "execution_count": 83,
   "metadata": {},
   "outputs": [],
   "source": [
    "#healthy_volunteers: 0,1,-1\n",
    "data['healthy_volunteers'] = data['healthy_volunteers'].fillna(-1)"
   ]
  },
  {
   "cell_type": "code",
   "execution_count": 84,
   "metadata": {},
   "outputs": [
    {
     "name": "stdout",
     "output_type": "stream",
     "text": [
      " 0.0    179625\n",
      " 1.0     72787\n",
      "-1.0      5625\n",
      "Name: healthy_volunteers, dtype: int64\n"
     ]
    }
   ],
   "source": [
    "print(data['healthy_volunteers'].value_counts(dropna=False))"
   ]
  },
  {
   "cell_type": "code",
   "execution_count": 85,
   "metadata": {},
   "outputs": [
    {
     "name": "stdout",
     "output_type": "stream",
     "text": [
      "                 COMPLETED (%)  NON COMPLETED (%)\n",
      "time_frame           88.508059          87.259138\n",
      "population           79.768760          85.864927\n",
      "sampling_method      79.763788          85.875798\n",
      "Collaborators        67.493514          67.585270\n",
      "Phases               58.315781          44.038592\n",
      "...                        ...                ...\n",
      "Conditions            0.000000           0.635956\n",
      "Study Results         0.000000           0.635956\n",
      "Brief Summary         0.000000           0.695747\n",
      "Study Status          0.000000           0.722924\n",
      "duration              0.000000           0.000000\n",
      "\n",
      "[284 rows x 2 columns]\n"
     ]
    }
   ],
   "source": [
    "def calculate_missing_values_by_group(group):\n",
    "    return group.isnull().sum() / len(group) * 100\n",
    "\n",
    "completed_group = data[data['Study Status'] == 'COMPLETED']\n",
    "non_completed_group = data[data['Study Status'] != 'COMPLETED']\n",
    "\n",
    "missing_completed = calculate_missing_values_by_group(completed_group)\n",
    "missing_non_completed = calculate_missing_values_by_group(non_completed_group)\n",
    "\n",
    "missing_comparison = pd.DataFrame({\n",
    "    'COMPLETED (%)': missing_completed,\n",
    "    'NON COMPLETED (%)': missing_non_completed\n",
    "})\n",
    "\n",
    "missing_comparison = missing_comparison.sort_values(by='COMPLETED (%)', ascending=False)\n",
    "\n",
    "print(missing_comparison)"
   ]
  },
  {
   "cell_type": "markdown",
   "metadata": {},
   "source": [
    "Categorical Column Imputation : Filling null values with placeholders"
   ]
  },
  {
   "cell_type": "code",
   "execution_count": 86,
   "metadata": {},
   "outputs": [
    {
     "data": {
      "text/plain": [
       "array([nan, 'NON_PROBABILITY_SAMPLE', 'PROBABILITY_SAMPLE', 't', 'f',\n",
       "       'Withdrawal by Subject; Adverse Event; Lost to Follow-up; Protocol Violation; Lack of Efficacy; Physician Decision; Noncompliance; Cough Improvement',\n",
       "       '1',\n",
       "       \"Inclusion Criteria:~1. Subject must be greater than or equal to 18 years of age.~2. Subjects must have an advanced hematologic malignancy including:~Phase 1/ Dose escalation:~1. Diagnosis of acute myelogenous leukemia (AML) according to World Health Organization (WHO) criteria;~   * Disease refractory or relapsed (defined as the reappearance of \\\\> 5% blasts in the bone marrow).~  * Untreated AML, greater than or equal to 60 years of age and are not candidates for standard therapy due to age, performance status, and/or adverse risk factors, according to the treating physician and with approval of the Medical Monitor;~2. Diagnosis of Myelodysplastic syndrome (MDS) according to WHO classification with refractory anemia with excess blasts (RAEB-1 or RAEB-2), or considered high-risk by the Revised International Prognostic Scoring System (IPSS-R), that is recurrent or refractory, or the subject is intolerant to established therapy known to provide clinical benefit for their condition (i.e., subjects must not be candidates for regimens known to provide clinical benefit), according to the treating physician and with approval of the Medical Monitor.~   Phase 1/Part 1 Expansion:~   Arm 1: Relapsed or refractory AML and age greater than or equal to 60 years or any subject with AML regardless of age who has relapsed following a bone marrow transplant (BMT).~   Arm 2: Relapsed or refractory AML and age \\\\<60 years, excluding subjects with AML who have relapsed following a BMT.~   Arm 3: Untreated AML and age greater than or equal to 60 years that decline standard of care chemotherapy.~   Arm 4: Isocitrate dehydrogenase protein, 2 (IDH2)-mutated advanced hematologic malignancies not eligible for Arms 1 to 3.~   Phase 2:~   Diagnosis of AML according to World Health Organization (WHO) criteria and disease relapsed or refractory as defined by:~  * Subjects who relapse after allogeneic transplantation;~  * Subjects in second or later relapse;~  * Subjects who are refractory to initial induction or re-induction treatment~  * Subjects who relapse within 1 year of initial treatment, excluding patients with favorable-risk status according to National Comprehensive Cancer Network (NCCN) Guidelines. Favorable-risk cytogenetics: inv(16), t(16;16), t(8;21), t(15;17)~3. Subjects must have documented IDH2 gene-mutated disease:~   * For subjects in the dose escalation phase and Part 1 Expansion, IDH2 mutation may be based on local evaluation. (Centralized testing will be performed retrospectively.)~  * For subjects in the Phase 2 portion of the trial, central testing of IDH2 mutation of bone marrow aspirate and peripheral blood, is required during screening to confirm eligibility~4. Subjects must be amenable to serial bone marrow sampling, peripheral blood sampling and urine sampling during the study.~   * The diagnosis and evaluation of AML or MDS will be made by bone marrow aspiration and/or biopsy. If an aspirate is unobtainable (i.e., a dry tap), the diagnosis may be made from the core biopsy.~  * Screening bone marrow aspirate and peripheral blood samples are required of all subjects. A bone marrow biopsy must be collected if adequate aspirate is not attainable unless:~     * A bone marrow aspirate and biopsy was performed as part of the standard of care within 28 days prior to the start of the study treatment; and~    * Slides of bone marrow aspirate, biopsy and stained peripheral blood smear are available for both local and central pathology reviewers; and~    * A bone marrow aspirate sample acquired within 28 days prior to the start of study treatment has been sent for cytogenetic analysis.~5. Subjects must be able to understand and willing to sign an informed consent. A legally authorized representative may consent on behalf of a subject who is otherwise unable to provide informed consent, if acceptable to and approved by the site and/or sites Institutional Review Board (IRB)/Independent Ethics Committee (IEC).~6. Subjects must have Eastern Cooperative Oncology Group (ECOG) Performance status (PS) of 0 to 2.~7. Platelet count ≥ 20,000/μL (transfusions to achieve this level are allowed). Subjects with a baseline platelet count of \\\\< 20,000/μL due to underlying malignancy are eligible with Medical Monitor approval.~8. Subjects must have adequate hepatic function as evidenced by:~   * Serum total bilirubin ≤ 1.5 × upper limit of normal (ULN), unless considered due to Gilbert's disease, a gene mutation in UGT1A1, or leukemic organ involvement, following approval by the Medical Monitor;~  * Aspartate aminotransferase (AST), alanine aminotransferase (ALT) and alkaline phosphatase (ALP) ≤ 3.0 × ULN, unless considered due to leukemic organ involvement.~9. Subjects must have adequate renal function as evidenced by:~   • Serum creatinine ≤ 2.0 × ULN OR~   • Creatinine clearance greater than 40 mL/min based on the Cockroft-Gault glomerular filtration rate (GFR) estimation: (140 - Age) x (weight in kg) x (0.85 if female)/72 x serum creatinine~10. Subjects must be recovered from any clinically relevant toxic effects of any prior surgery, radiotherapy, or other therapy intended for the treatment of cancer. (Subjects with residual Grade 1 toxicity, for example Grade 1 peripheral neuropathy or residual alopecia, are allowed with approval of the Medical Monitor)~11. Female subjects of child-bearing potential must agree to undergo medically supervised pregnancy test prior to starting study drug. The first pregnancy test will be performed at screening (within 7 days prior to first study drug administration), and on the day of the first study drug administration and confirmed negative prior to dosing and Day 1 before dosing all subsequent cycles.~12. Female subjects with reproductive potential must have a negative serum pregnancy test within 7 days prior to the start of therapy. Subjects with reproductive potential are defined as sexually mature women who have not undergone a hysterectomy, bilateral oophorectomy or tubal occlusion or who have not been naturally postmenopausal (i.e., who have not menstruated at all) for at least 24 consecutive months (i.e., has had menses at any time in the preceding 24 consecutive months). Females of reproductive potential as well as fertile men and their partners who are female of reproductive potential must agree to abstain from sexual intercourse or to use two highly effective forms of contraception from the time of giving informed consent, during the study and for 120 days (females and males) following the last dose of AG-221. A highly effective form of contraception is defined as hormonal oral contraceptives, injectables, patches, intrauterine devices, double-barrier method (e.g., synthetic condoms, diaphragm, or cervical cap with spermicidal foam, cream, or gel), or male partner sterilization.~13. Able to adhere to the study visit schedule (ie, clinic visits at the study sites are mandatory, unless noted otherwise for particular study visits) and other protocol requirements.~Exclusion Criteria:~1. Subjects who have undergone hematopoietic stem cell transplant (HSCT) within 60 days of the first dose of AG-221, or subjects on immunosuppressive therapy post HSCT at the time of screening, or with clinically significant graft-versus-host disease (GVHD). (The use of a stable dose of oral steroids post GVHD and/or topical steroids for ongoing skin GVHD is permitted with Medical Monitor approval.)~2. Subjects who received systemic anticancer therapy or radiotherapy \\\\< 14 days prior to their first day of study drug administration. (Hydroxyurea is allowed for up to 28 days after the start of AG-221 for the control of peripheral leukemic blasts in subjects with white blood cell \\\\[WBC\\\\] counts \\\\> 30,000/μL as well as prior to enrollment).~3. Subjects who received a small molecule investigational agent \\\\< 14 days prior to their first day of study drug administration. In addition, the first dose of AG-221 should not occur before a period ≥ 5 half-lives of the investigational agent has elapsed.~4. Subjects taking the following sensitive cytochrome P450 (CYP) substrate medications that have a narrow therapeutic range are excluded from the study unless they can be transferred to other medications within ≥5 half-lives prior to dosing: paclitaxel (CYP2C8) warfarin, phenytoin (CYP2C9), S-mephenytoin (CYP2C19), thioridazine (CYP2D6), theophylline and tizanidine (CYP1A2).~5. Subjects taking the P-glycoprotein (P-gp) and breast cancer resistant protein (BCRP) transporter-sensitive substrates digoxin and rosuvastatin should be excluded from the study unless they can be transferred to other medications within ≥ 5 half-lives prior to dosing.~6. Subjects for whom potentially curative anticancer therapy is available.~7. Subjects who are pregnant or lactating.~8. Subjects with an active severe infection that required anti-infective therapy or with an unexplained fever \\\\> 38.5°C during screening visits or on their first day of study drug administration (at the discretion of the Investigator, subjects with tumor fever may be enrolled).~9. Subjects with known hypersensitivity to any of the components of AG-221.~10. Subjects with New York Heart Association (NYHA) Class III or IV congestive heart failure or left ventricular ejection fraction (LVEF) \\\\< 40% by echocardiogram (ECHO) or multi-gated acquisition (MUGA) scan within approximately 28 days of Cycle 1, Day 1 (C1D1).~11. Subjects with a history of myocardial infarction within the last 6 months of screening.~12. Subjects with uncontrolled hypertension (systolic blood pressure \\\\[BP\\\\] \\\\>180 mmHg or diastolic BP \\\\> 100 mmHg) at screening are excluded. Subjects requiring 2 or more medications to control hypertension are eligible with Medical Monitor approval.~13. Subjects with known unstable or uncontrolled angina pectoris.~14. Subjects with a known history of severe and/or uncontrolled ventricular arrhythmias.~15. Subjects with heart-rate corrected QT (QTc) interval ≥ 450 msec or other factors that increase the risk of QT prolongation or arrhythmic events (e.g., heart failure, hypokalemia, family history of long QT interval syndrome) at screening.~16. Subjects taking medications that are known to prolong the QT interval unless they can be transferred to other medications within ≥ 5 half-lives prior to dosing.~17. Subjects with known infection with human immunodeficiency virus (HIV) or active hepatitis B or C.~18. Subjects with any other medical or psychological condition, deemed by the Investigator to be likely to interfere with a subject's ability to sign informed consent, cooperate, or participate in the study.~19. Subjects with known dysphagia, short-gut syndrome, gastroparesis, or other conditions that limit the ingestion or gastrointestinal absorption of drugs administered orally.~20. Subjects with clinical symptoms suggesting active central nervous system (CNS) leukemia or known CNS leukemia.~21. Subjects with immediately life-threatening, severe complications of leukemia such as uncontrolled bleeding, pneumonia with hypoxia or shock, and/or disseminated intravascular coagulation.~22. In the Phase 2 portion of the trial only, subjects who have previously received treatment with an inhibitor of Isocitrate dehydrogenase ( IDH).\"],\n",
       "      dtype=object)"
      ]
     },
     "execution_count": 86,
     "metadata": {},
     "output_type": "execute_result"
    }
   ],
   "source": [
    "data['sampling_method'].unique()"
   ]
  },
  {
   "cell_type": "code",
   "execution_count": 87,
   "metadata": {},
   "outputs": [],
   "source": [
    "filtered_data = data[data['sampling_method'].isin([np.nan, 'NON_PROBABILITY_SAMPLE', 'PROBABILITY_SAMPLE'])]"
   ]
  },
  {
   "cell_type": "code",
   "execution_count": 88,
   "metadata": {},
   "outputs": [
    {
     "data": {
      "text/plain": [
       "(257816, 284)"
      ]
     },
     "execution_count": 88,
     "metadata": {},
     "output_type": "execute_result"
    }
   ],
   "source": [
    "filtered_data.shape"
   ]
  },
  {
   "cell_type": "code",
   "execution_count": 89,
   "metadata": {},
   "outputs": [
    {
     "data": {
      "text/plain": [
       "array([nan, 'NON_PROBABILITY_SAMPLE', 'PROBABILITY_SAMPLE'], dtype=object)"
      ]
     },
     "execution_count": 89,
     "metadata": {},
     "output_type": "execute_result"
    }
   ],
   "source": [
    "filtered_data['sampling_method'].unique()"
   ]
  },
  {
   "cell_type": "code",
   "execution_count": 90,
   "metadata": {},
   "outputs": [
    {
     "name": "stdout",
     "output_type": "stream",
     "text": [
      "0\n",
      "['UNKNOWN_SAMPLE' 'NON_PROBABILITY_SAMPLE' 'PROBABILITY_SAMPLE']\n"
     ]
    },
    {
     "name": "stderr",
     "output_type": "stream",
     "text": [
      "C:\\Users\\yuvik\\AppData\\Local\\Temp\\ipykernel_28964\\1132756599.py:3: SettingWithCopyWarning: \n",
      "A value is trying to be set on a copy of a slice from a DataFrame.\n",
      "Try using .loc[row_indexer,col_indexer] = value instead\n",
      "\n",
      "See the caveats in the documentation: https://pandas.pydata.org/pandas-docs/stable/user_guide/indexing.html#returning-a-view-versus-a-copy\n",
      "  filtered_data['sampling_method'] = filtered_data['sampling_method'].fillna('UNKNOWN_SAMPLE')\n"
     ]
    }
   ],
   "source": [
    "#sampling_method - column name\n",
    "\n",
    "filtered_data['sampling_method'] = filtered_data['sampling_method'].fillna('UNKNOWN_SAMPLE')\n",
    "\n",
    "print(filtered_data['sampling_method'].isnull().sum())\n",
    "print(filtered_data['sampling_method'].unique())\n"
   ]
  },
  {
   "cell_type": "code",
   "execution_count": 91,
   "metadata": {},
   "outputs": [
    {
     "data": {
      "text/plain": [
       "array(['UNKNOWN_SAMPLE', 'NON_PROBABILITY_SAMPLE', 'PROBABILITY_SAMPLE'],\n",
       "      dtype=object)"
      ]
     },
     "execution_count": 91,
     "metadata": {},
     "output_type": "execute_result"
    }
   ],
   "source": [
    "filtered_data['sampling_method'].unique()"
   ]
  },
  {
   "cell_type": "code",
   "execution_count": 92,
   "metadata": {},
   "outputs": [
    {
     "data": {
      "text/plain": [
       "array(['ALL', 'MALE', 'FEMALE', nan, '30-09-2010',\n",
       "       ' and renal function~* For women of childbearing potential: agreement to remain abstinent (refrain from heterosexual intercourse) or use a highly effective contraceptive method with a failure rate of \\\\<1% per year during the treatment period and for at least five elimination half-lives (24 weeks) after the last dose of emicizumab~Exclusion Criteria:~* Inherited or acquired bleeding disorder other than hemophilia A~* Ongoing (or plan to receive during the study) immune tolerance induction (ITI) therapy (prophylaxis regimens with FVIII and/or bypassing agents must be discontinued prior to enrollment). Patients receiving ITI therapy will be eligible following the completion of a 72-hour washout period prior to the first emicizumab administration~* History of illicit drug or alcohol abuse within 12 months prior to screening',\n",
       "       '27-03-2009', '0', '09-12-2010', '02-06-2010', '09-02-2011'],\n",
       "      dtype=object)"
      ]
     },
     "execution_count": 92,
     "metadata": {},
     "output_type": "execute_result"
    }
   ],
   "source": [
    "filtered_data['Sex'].unique()"
   ]
  },
  {
   "cell_type": "code",
   "execution_count": 93,
   "metadata": {},
   "outputs": [],
   "source": [
    "filtered_data1 = filtered_data[filtered_data['Sex'].isin([np.nan, 'ALL', 'MALE','FEMALE'])]"
   ]
  },
  {
   "cell_type": "code",
   "execution_count": 94,
   "metadata": {},
   "outputs": [
    {
     "data": {
      "text/plain": [
       "array(['ALL', 'MALE', 'FEMALE', nan], dtype=object)"
      ]
     },
     "execution_count": 94,
     "metadata": {},
     "output_type": "execute_result"
    }
   ],
   "source": [
    "filtered_data1['Sex'].unique()"
   ]
  },
  {
   "cell_type": "code",
   "execution_count": 95,
   "metadata": {},
   "outputs": [
    {
     "data": {
      "text/plain": [
       "(257809, 284)"
      ]
     },
     "execution_count": 95,
     "metadata": {},
     "output_type": "execute_result"
    }
   ],
   "source": [
    "filtered_data1.shape"
   ]
  },
  {
   "cell_type": "code",
   "execution_count": 96,
   "metadata": {},
   "outputs": [
    {
     "name": "stdout",
     "output_type": "stream",
     "text": [
      "0\n",
      "['ALL' 'MALE' 'FEMALE' 'UNKNOWN_Sex']\n"
     ]
    },
    {
     "name": "stderr",
     "output_type": "stream",
     "text": [
      "C:\\Users\\yuvik\\AppData\\Local\\Temp\\ipykernel_28964\\3665607310.py:2: SettingWithCopyWarning: \n",
      "A value is trying to be set on a copy of a slice from a DataFrame.\n",
      "Try using .loc[row_indexer,col_indexer] = value instead\n",
      "\n",
      "See the caveats in the documentation: https://pandas.pydata.org/pandas-docs/stable/user_guide/indexing.html#returning-a-view-versus-a-copy\n",
      "  filtered_data1['Sex'] = filtered_data1['Sex'].fillna('UNKNOWN_Sex')\n"
     ]
    }
   ],
   "source": [
    "#Sex - column name\n",
    "\n",
    "filtered_data1['Sex'] = filtered_data1['Sex'].fillna('UNKNOWN_Sex')\n",
    "\n",
    "print(filtered_data1['Sex'].isnull().sum())\n",
    "print(filtered_data1['Sex'].unique())"
   ]
  },
  {
   "cell_type": "code",
   "execution_count": 97,
   "metadata": {},
   "outputs": [
    {
     "data": {
      "text/plain": [
       "array([nan, 'PHASE1', 'PHASE4', 'PHASE2', 'PHASE3', 'EARLY_PHASE1',\n",
       "       'PHASE1|PHASE2', 'PHASE2|PHASE3'], dtype=object)"
      ]
     },
     "execution_count": 97,
     "metadata": {},
     "output_type": "execute_result"
    }
   ],
   "source": [
    "filtered_data1['Phases'].unique()"
   ]
  },
  {
   "cell_type": "code",
   "execution_count": 98,
   "metadata": {},
   "outputs": [
    {
     "name": "stdout",
     "output_type": "stream",
     "text": [
      "Missing values in 'Phases': 0\n",
      "Sample categories in 'Phases': ['UNKNOWN_PHASE' 'PHASE1' 'PHASE4' 'PHASE2' 'PHASE3' 'EARLY_PHASE1'\n",
      " 'PHASE1|PHASE2' 'PHASE2|PHASE3']\n"
     ]
    },
    {
     "name": "stderr",
     "output_type": "stream",
     "text": [
      "C:\\Users\\yuvik\\AppData\\Local\\Temp\\ipykernel_28964\\687037914.py:2: SettingWithCopyWarning: \n",
      "A value is trying to be set on a copy of a slice from a DataFrame.\n",
      "Try using .loc[row_indexer,col_indexer] = value instead\n",
      "\n",
      "See the caveats in the documentation: https://pandas.pydata.org/pandas-docs/stable/user_guide/indexing.html#returning-a-view-versus-a-copy\n",
      "  filtered_data1['Phases'] = filtered_data1['Phases'].fillna('UNKNOWN_PHASE')\n"
     ]
    }
   ],
   "source": [
    "#Phases \n",
    "\n",
    "filtered_data1['Phases'] = filtered_data1['Phases'].fillna('UNKNOWN_PHASE')\n",
    "\n",
    "print(f\"Missing values in 'Phases': {filtered_data1['Phases'].isnull().sum()}\")\n",
    "print(f\"Sample categories in 'Phases': {filtered_data1['Phases'].unique()[:10]}\")\n"
   ]
  },
  {
   "cell_type": "code",
   "execution_count": 99,
   "metadata": {},
   "outputs": [
    {
     "data": {
      "text/plain": [
       "array([nan,\n",
       "       'The study will be divided into two phases. In Phase 1, an exploratory pilot study will be performed with up to 3 flexibility films done on the same patient in different spinal centres which are in Hong Kong and Turkey.',\n",
       "       \"The test population is pediatric patient (0-18 years of age) with known liver disease with plans to undergo a liver biopsy within 1 month of ultrasound exam. Underlying diagnoses include but are not limited to biliary atresia, congenital fibrosis-cholestasis, Alagille syndrome, Caroli's disease, choledochal cyst, alpha-1-antitrypsin deficiency, progressive familial intrahepatic cholestasis (PFIC), viral hepatitis, glycogenosis, fructosemia, Wilson disease, cystic fibrosis, autosomal recessive polycystic kidney disease (ARPCKD), mesenterico-caval shunt, post liver transplant, and nonalcoholic steatohepatitis (NASH).~The control population is any pediatric patient (0-18 years of age) undergoing an abdominal ultrasound for reasons other than liver disease and in whom the US shows a normal liver, gallbladder, pancreas, spleen, and biliary tree.\",\n",
       "       ..., 'Preterm, Late preterm, and term infants',\n",
       "       'Critical care patients',\n",
       "       'Patients undergoing a transthoracic echocardiogram will be enrolled.'],\n",
       "      dtype=object)"
      ]
     },
     "execution_count": 99,
     "metadata": {},
     "output_type": "execute_result"
    }
   ],
   "source": [
    "filtered_data1['population'].unique()"
   ]
  },
  {
   "cell_type": "code",
   "execution_count": 100,
   "metadata": {},
   "outputs": [
    {
     "name": "stdout",
     "output_type": "stream",
     "text": [
      "Missing values in 'population': 0\n",
      "Sample categories in 'population': ['UNKNOWN_POPULATION'\n",
      " 'The study will be divided into two phases. In Phase 1, an exploratory pilot study will be performed with up to 3 flexibility films done on the same patient in different spinal centres which are in Hong Kong and Turkey.'\n",
      " \"The test population is pediatric patient (0-18 years of age) with known liver disease with plans to undergo a liver biopsy within 1 month of ultrasound exam. Underlying diagnoses include but are not limited to biliary atresia, congenital fibrosis-cholestasis, Alagille syndrome, Caroli's disease, choledochal cyst, alpha-1-antitrypsin deficiency, progressive familial intrahepatic cholestasis (PFIC), viral hepatitis, glycogenosis, fructosemia, Wilson disease, cystic fibrosis, autosomal recessive polycystic kidney disease (ARPCKD), mesenterico-caval shunt, post liver transplant, and nonalcoholic steatohepatitis (NASH).~The control population is any pediatric patient (0-18 years of age) undergoing an abdominal ultrasound for reasons other than liver disease and in whom the US shows a normal liver, gallbladder, pancreas, spleen, and biliary tree.\"\n",
      " 'Patients with advanced incurable cancer'\n",
      " 'Women with symptomatic diagnosed Interstitial Cystitis'\n",
      " 'Individuals diagnosed with type 1 diabetes and an eating disorder who manipulate their insulin will be considered to join the ED/DM Recovery Group.'\n",
      " 'Treatment group: primary care clinic, Non-treatment group: primary care clinic and community sample'\n",
      " 'Patients with the clinical diagnosis of type 1 diabetes planning to start the 670G system clinically.'\n",
      " 'Military personnel and retired football players were exclusively men, whereas the comparative groups (AD, cognitively healthy controls) had a substantial proportion of women. Military personnel were significantly younger than the other three groups. Four of the seven military personnel were cognitively normal, and three had mild cognitive impairment. While the difference in education levels among participant groups did not reach statistical significance, pairwise comparisons indicated that military personnel had significantly lower education levels than both players and cognitively healthy individuals. Military personnel and players had significantly higher levels of depression and anxiety than did the comparison groups.'\n",
      " 'HCV patients with normal ALT']\n"
     ]
    },
    {
     "name": "stderr",
     "output_type": "stream",
     "text": [
      "C:\\Users\\yuvik\\AppData\\Local\\Temp\\ipykernel_28964\\788675119.py:2: SettingWithCopyWarning: \n",
      "A value is trying to be set on a copy of a slice from a DataFrame.\n",
      "Try using .loc[row_indexer,col_indexer] = value instead\n",
      "\n",
      "See the caveats in the documentation: https://pandas.pydata.org/pandas-docs/stable/user_guide/indexing.html#returning-a-view-versus-a-copy\n",
      "  filtered_data1['population'] = filtered_data1['population'].fillna('UNKNOWN_POPULATION')\n"
     ]
    }
   ],
   "source": [
    "#Population\n",
    "\n",
    "filtered_data1['population'] = filtered_data1['population'].fillna('UNKNOWN_POPULATION')\n",
    "\n",
    "print(f\"Missing values in 'population': {filtered_data1['population'].isnull().sum()}\")\n",
    "print(f\"Sample categories in 'population': {filtered_data1['population'].unique()[:10]}\")\n"
   ]
  },
  {
   "cell_type": "code",
   "execution_count": 101,
   "metadata": {},
   "outputs": [
    {
     "data": {
      "text/plain": [
       "array(['Ventilator Free Days, Reduction cytokines TNF-α, IL-1b, IL-10, CRP, 28-day all cause mortality, Oxygen Index (OI), P/F ratios, MODS scores, 28 Days',\n",
       "       'Pharmacokinetic effect of AZD7762 when administered alone and in combination with gemcitabine, According to protocol specified schedule, the number of PK samples collected during Cycle 0 and Cycle 1|Anti-tumor activity of AZD7762 when administered in combination with gemcitabine by assessment of Response Evaluation Criteria in Solid Tumors (RECIST), Every 2-3 cycles',\n",
       "       'workload during ischemic exercise, workload during 10minutes of ischemic exercise|effect of 3-day treatment with atorvastatin 80mg daily on serum lipid levels, fasting lipid levels before and at first day after 3 day treatment with atorvastatin',\n",
       "       ...,\n",
       "       'Allogeneic blood Sparing (Amount of Allogeneic Blood units (number) transfused in the first 4 days after surgery), Amount of Allogeneic Blood units (number) transfused in the first 4 days after surgery, 4 days after surgery',\n",
       "       'Serum creatinine, Up to 14 days',\n",
       "       \"Total number of blisters at each visit, At 2 months, 3 months and 5 months after baseline visit|Total number of opened areas at each visit, At 2 months, 3 months and 5 months after baseline visit|Qualitative wound score, At 2 months, 3 months and 5 months after baseline visit|Parent/patient/physician perception of improvement, assessed with a visual analog scale at each visit, At 2 months, 3 months and 5 months after baseline visit|Quality of life, assessed by the Children's Dermatology Life Quality Index (CDLQI) and the Cardiff Wound Impact Schedule, At 2 months, 3 months and 5 months after baseline visit|Number of infections that require systemic antibiotics, 6 months\"],\n",
       "      dtype=object)"
      ]
     },
     "execution_count": 101,
     "metadata": {},
     "output_type": "execute_result"
    }
   ],
   "source": [
    "filtered_data1['Secondary Outcome Measures'].unique()"
   ]
  },
  {
   "cell_type": "code",
   "execution_count": 102,
   "metadata": {},
   "outputs": [
    {
     "name": "stderr",
     "output_type": "stream",
     "text": [
      "C:\\Users\\yuvik\\AppData\\Local\\Temp\\ipykernel_28964\\3610122958.py:2: SettingWithCopyWarning: \n",
      "A value is trying to be set on a copy of a slice from a DataFrame.\n",
      "Try using .loc[row_indexer,col_indexer] = value instead\n",
      "\n",
      "See the caveats in the documentation: https://pandas.pydata.org/pandas-docs/stable/user_guide/indexing.html#returning-a-view-versus-a-copy\n",
      "  filtered_data1['Secondary Outcome Measures'] = filtered_data1['Secondary Outcome Measures'].fillna('UNKNOWN_MEASURES')\n"
     ]
    },
    {
     "name": "stdout",
     "output_type": "stream",
     "text": [
      "Missing values in 'Secondary Outcome Measures': 0\n",
      "Sample categories in 'Secondary Outcome Measures': ['Ventilator Free Days, Reduction cytokines TNF-α, IL-1b, IL-10, CRP, 28-day all cause mortality, Oxygen Index (OI), P/F ratios, MODS scores, 28 Days'\n",
      " 'Pharmacokinetic effect of AZD7762 when administered alone and in combination with gemcitabine, According to protocol specified schedule, the number of PK samples collected during Cycle 0 and Cycle 1|Anti-tumor activity of AZD7762 when administered in combination with gemcitabine by assessment of Response Evaluation Criteria in Solid Tumors (RECIST), Every 2-3 cycles'\n",
      " 'workload during ischemic exercise, workload during 10minutes of ischemic exercise|effect of 3-day treatment with atorvastatin 80mg daily on serum lipid levels, fasting lipid levels before and at first day after 3 day treatment with atorvastatin'\n",
      " 'Incorporate these findings into the Lenke Classification of AIS, To incorporate these findings into the Lenke Classification of AIS, 6 months to 9 months|Give new recommendations for fusion levels according to the flexibility assessment, To give new recommendations for fusion levels according to the flexibility assessment, 6 months to 9 months'\n",
      " 'UNKNOWN_MEASURES'\n",
      " 'Number of participants with respiratory complications trans or post surgery., Every patient will be evaluated during surgery and before leaving the hospital for signs of a respiratory complication (persistent cough, fever, dyspnea, atelectatic rales, wheezing). The presence of any of these signs will be used to classify the patients with a qualitative variable (\"With Respiratory Complications\" or \"Without Respiratory Complications\") and allow us to determine if the use of oxygen at 80% FIO2 is associated with more respiratory complications., 2 months'\n",
      " 'To assess tumor response.|To assess time to event efficacy variables including time to progressive disease and overall survival.|To characterize the quantitative and qualitative toxicities of pemetrexed in this population of pancreatic cancer patients.'\n",
      " 'Determine if this tool affects communication between these patients and their treating physicians., Until trial ends|Determine if this tool affects the symptoms and syndromes reported by these patients, Until trial ends|Determine if this tool impacts symptom management performance, Until trial ends'\n",
      " 'Time to achieve Cmax, to evaluate time to achieve Cmax, pre-dose (0), 10, 20, 30, 40, 50 minutes and 1, 1.25, 1.5, 1.75, 2, 2.5, 3, 4, 5, 6, 8, 10, 12, 16 and 24 hours post-dose|tlag, to evaluate time prior to the first measurable (i.e. above lower quantification limit) concentration, pre-dose (0), 10, 20, 30, 40, 50 minutes and 1, 1.25, 1.5, 1.75, 2, 2.5, 3, 4, 5, 6, 8, 10, 12, 16 and 24 hours post-dose|Relative bioavailability of flurbiprofen in plasma, to evaluate relative bioavailability of flurbiprofen in plasma, pre-dose (0), 10, 20, 30, 40, 50 minutes and 1, 1.25, 1.5, 1.75, 2, 2.5, 3, 4, 5, 6, 8, 10, 12, 16 and 24 hours post-dose|Palatability, to assess the palatability of test and reference formulations using a 0-100 mm VAS where 0 mm indicated \"not pleasant at all\" and 100 mm indicated \"very pleasant\"., 2 times through the two week study period|Treatment-Emergent Advers Events, to evaluate number of TEAEs and number of subjects with TEAEs, through the two week study period'\n",
      " 'Time spent in at least moderate physical activity, Time in at least moderate physical activity will be measured by the PROactive monitors (ActiGraph® and DynaPort®) at baseline (during the week prior to baseline visit) and at the end of the 3-month epoch (during the week prior to end visit)., changes from baseline to 3 months|Proportion of patients showing an increase of physical activity by >20%, Physical activity will be measured by the PROactive monitors (ActiGraph® and DynaPort®) at baseline (during the week prior to baseline visit) and at the end of the 3-month epoch (during the week prior to end visit)., changes from baseline to 3 months|6-minute walking test, changes from baseline to 3 months|isometric Quadriceps force, changes from baseline to 3 months|COPD symptoms and health-related quality of life, COPD symptoms and health-related quality of life will be measured by the CAT, CCQ, HADS and mMRC questionnaires, changes form baseline to 3 months']\n"
     ]
    }
   ],
   "source": [
    "#Secondary Outcome Measures\n",
    "\n",
    "filtered_data1['Secondary Outcome Measures'] = filtered_data1['Secondary Outcome Measures'].fillna('UNKNOWN_MEASURES')\n",
    "\n",
    "print(f\"Missing values in 'Secondary Outcome Measures': {filtered_data1['Secondary Outcome Measures'].isnull().sum()}\")\n",
    "print(f\"Sample categories in 'Secondary Outcome Measures': {filtered_data1['Secondary Outcome Measures'].unique()[:10]}\")\n"
   ]
  },
  {
   "cell_type": "code",
   "execution_count": 103,
   "metadata": {},
   "outputs": [
    {
     "name": "stderr",
     "output_type": "stream",
     "text": [
      "C:\\Users\\yuvik\\AppData\\Local\\Temp\\ipykernel_28964\\3386266803.py:2: SettingWithCopyWarning: \n",
      "A value is trying to be set on a copy of a slice from a DataFrame.\n",
      "Try using .loc[row_indexer,col_indexer] = value instead\n",
      "\n",
      "See the caveats in the documentation: https://pandas.pydata.org/pandas-docs/stable/user_guide/indexing.html#returning-a-view-versus-a-copy\n",
      "  filtered_data1['Primary Outcome Measures'] = filtered_data1['Primary Outcome Measures'].fillna('UNKNOWN_PRIMARY_MEASURES')\n"
     ]
    },
    {
     "name": "stdout",
     "output_type": "stream",
     "text": [
      "Missing values in 'Secondary Outcome Measures': 0\n",
      "Sample categories in 'Secondary Outcome Measures': ['Relative IL-6 levels as a percent (%) of baseline will be lower in subjects receiving CytoSorb treatment in conjunction with the standard of care as compared to control subjects receiving only the standard of care for ARDS/ALI in the setting of sepsis., 7 Days'\n",
      " 'Assessment of adverse events (based on CTCAE version 3.0), laboratory values, vital sign measurements, cardiac markers, ECG, Echocardiogram, Laboratory values weekly for all treatment cycles, and the other variables weekly for Cycle 0-1, then every cycle (3-4 weeks) from Cycle 2'\n",
      " 'Annexin A 5 targeting in the non dominant thenar muscle after ischemic exercise, as a indicator for ischemia reperfusion injury., 60 and 240 minutes after ischemic exercise'\n",
      " 'Investigate the flexibility equivalence of different bending methods, and their predictability of the final outcome, To investigate the flexibility equivalence of different bending methods: supine side-bending, fulcrum bending (FB) and supine Halter traction without GA (awake), and their predictability of the final outcome, 6 months to 9 months'\n",
      " 'Three Weeks of Continuous Cocaine Abstinence as Measured by Urine Toxicology and Self Report Based on Time Line Follow Back, Cocaine use was assessed by using urine toxicology confirmed self-report. Self-reported cocaine use data was collected for each day of the study period by the Time Line Follow Back. Urine samples were collected three times per week. A week was considered abstinence if no cocaine use was self reported during that week and if all urine samples collected that week were negative for cocaine. If a patient achieved three continuous weeks of abstinence based on this criteria they were considered cocaine abstinent in terms of this outcome measure., 3 weeks of abstinence during 14 weeks of trial or for length of participation'\n",
      " 'Number of participants with surgical site infection (SSI)., The patients will be evaluated for evidence of surgical site infection before leaving the hospital, at 15 and 30 days post surgery. The presence of fever, supurative secretion through the wound or cutaneous changes compatible witn infection will be considered a surgical site infection (SSI). This outcome will be evaluated with a qualitative variable (presence of SSI). The patients will be clasiffied in accordance as \"With SSI\" or \"Without SSI\". This will allow us to determine if the use of oxygen at 80% FIO2 can reduce the incidence of SSI., 2 months'\n",
      " \"2D-SWE Measurements' Capability of Predicting Stages of Fibrosis Based on METAVIR Scoring System, METAVIR score is a tool used to measure fibrosis as seen on liver biopsy and scored to describe liver disease progress and prognosis., 2 years|2D-SWE Measurements' Capability of Predicting Stages of Fibrosis Based on Ishak Scoring System, Ishak is a tool used to evaluate liver fibrosis via liver biopsy to report severity and prognosis of liver disease, specifically hepatitis., 2 years\"\n",
      " 'Change in the proportion of Children 6-23 months receiving Minimum Acceptable Diet based on mother/caregiver report, Minimum Acceptable Diet (MAD) is defined as children by WHO as the proportion of children 6-23 months of age who receive both the minimum feeding frequency and minimum dietary diversity for their age group and breastfeeding status, This outcome will be assessed not earlier than 22 months after the introduction of the interventions'\n",
      " 'To evaluate the efficacy.'\n",
      " 'Determine the effect of an electronic tool for monitoring symptoms and syndromes associated with advanced cancer (E-MOSAIC) and a Longitudinal Monitoring Sheet (LoMoS) on global quality of life (G-QOL), Until trial ends']\n"
     ]
    }
   ],
   "source": [
    "#Primary Outcome Measures\n",
    "\n",
    "filtered_data1['Primary Outcome Measures'] = filtered_data1['Primary Outcome Measures'].fillna('UNKNOWN_PRIMARY_MEASURES')\n",
    "\n",
    "print(f\"Missing values in 'Secondary Outcome Measures': {filtered_data1['Primary Outcome Measures'].isnull().sum()}\")\n",
    "print(f\"Sample categories in 'Secondary Outcome Measures': {filtered_data1['Primary Outcome Measures'].unique()[:10]}\")\n"
   ]
  },
  {
   "cell_type": "code",
   "execution_count": 105,
   "metadata": {},
   "outputs": [
    {
     "data": {
      "text/plain": [
       "array([ 1.,  0., nan])"
      ]
     },
     "execution_count": 105,
     "metadata": {},
     "output_type": "execute_result"
    }
   ],
   "source": [
    "filtered_data1['adult'].unique()"
   ]
  },
  {
   "cell_type": "code",
   "execution_count": 106,
   "metadata": {},
   "outputs": [
    {
     "name": "stderr",
     "output_type": "stream",
     "text": [
      "C:\\Users\\yuvik\\AppData\\Local\\Temp\\ipykernel_28964\\1848144911.py:1: SettingWithCopyWarning: \n",
      "A value is trying to be set on a copy of a slice from a DataFrame\n",
      "\n",
      "See the caveats in the documentation: https://pandas.pydata.org/pandas-docs/stable/user_guide/indexing.html#returning-a-view-versus-a-copy\n",
      "  filtered_data1.drop([\"time_frame\",\"Collaborators\",\"Completion Date\",\"Start Date\"], axis =1 ,inplace = True)\n"
     ]
    }
   ],
   "source": [
    "filtered_data1.drop([\"time_frame\",\"Collaborators\",\"Completion Date\",\"Start Date\"], axis =1 ,inplace = True)"
   ]
  },
  {
   "cell_type": "code",
   "execution_count": 108,
   "metadata": {},
   "outputs": [
    {
     "data": {
      "text/plain": [
       "array(['Inclusion Criteria:~* Signed informed consent document (ICD)~* Male or female ≥ 18 and ≤ 80 years of age.~* Subjects must have diagnosis of ARDS or ALI, based on ARDSNet Definition, established within last 72 hours, confirmed by clinical, radiological, or physiologic findings~* Subject must be intubated~* ≤ 3 days on a ventilator prior to enrollment~* Subjects must have confirmed diagnosis of sepsis~* Subject must have had at least 24 hours of antibiotic therapy~* Pre-menopausal female subjects must have negative pregnancy test.~* Subject must be available for periodic blood sampling, study related assessments, and management at the treating institution for the duration of the study. Subject must have permanent home address to allow completion of 60 day follow-up.~* Subject or health care proxy has the ability to understand and willingness to sign the informed consent form.~Exclusion Criteria:~* Currently participating in another clinical study involving investigational chemical compound, biologic, or device within the last 30 days prior to the start of this trial.~* Neuromuscular disease that impairs the ability to ventilate spontaneously, such as C5 or higher spinal cord injury, amyotrophic lateral sclerosis, Guillain-Barré syndrome and myasthenia gravis.~* Increased intracranial pressure, tricyclic antidepressant overdose, hemoglobin SS, hemoglobin SC or other conditions where hypercapnia would be contraindicated.~* Severe chronic respiratory disease including hospitalization within last 6 months for respiratory failure.~* Morbid obesity (Body Mass Index ≥40 kg/m2).~* Burns \\\\> 30% BSA, bone marrow transplant, lung transplant or end stage hepatic liver failure.~* Subject with mean arterial pressure ≤ 60 mmHg regardless of use of pressor agents.~* Subject with active malignancy receiving chemotherapy or radiation treatment within last 60 days.~* Subjects with AIDS, CD4 count of \\\\< 200 or 14%, or the presence of an AIDS defining illness (HIV+ subjects may be enrolled)~* Subject with acute coronary syndrome.~* Subjects with decompensated heart failure with New York Heart Association (NYHA) classification IV~* Subjects with Chronic Kidney Disease (CKD) stage 5 will be excluded~* Subjects with end stage hepatic liver failure~* Subjects on immunosuppressive agents, excluding corticosteroids~* Platelets ≤ 20,000/mm3~* Subjects on anti-TNF therapy~* Subjects about to receive or receiving drotrecogin alpha (Xigris) therapy~* Subject is pregnant or breastfeeding.~* Subject has a known allergy to any component of the CytoSorb hemoperfusion device~* Subject has any active disease condition that could limit compliance with the study procedure, including but not limited to the following: acute coronary syndrome, life-threatening cardiac arrhythmia, or psychiatric or social conditions, considered by investigator(s) to preclude successful completion of the study.',\n",
       "       'Inclusion Criteria:~* Japanese patients with advanced solid tumors for which standard treatment does not exist or is no longer effective.~* Must be suitable for treatment with gemcitabine~* Relatively good overall health other than cancer~Exclusion Criteria:~* Poor bone marrow function (not producing enough blood cells).~* Poor liver or kidney function.~* Serious heart conditions',\n",
       "       'Inclusion Criteria:~* Male~* Age 18-50 years~* Informed consent~* Physical able to perform ischemic exercise~Exclusion Criteria:~* History of any cardiovascular disease~* Hypertension (in supine position: systole \\\\> 140 mmHg, diastole \\\\> 90 mmHg)~* Diabetes mellitus (fasting glucose \\\\> 7.0 mmol/L or random glucose \\\\> 11.0 mmol/L)~* Hyperlipidaemia (fasting total cholesterol \\\\> 5.5 mmol/l)~* Alanine-Amino-Transferase (ALAT) \\\\>90 U/L~* Creatinine Kinase (CK) \\\\>440 U/L~* Drug or alcohol abuse~* Concommitant chronic use of medication~* Administration of radioactivity in research setting during the last 5 years~* Participation to any drug-investigation during the previous 60 days as checked with VIP check according to CRCN standard procedures',\n",
       "       ...,\n",
       "       'Inclusion Criteria:~* Adults who are 20 years and older~* Patient who visited the emergency room or outpatient clinic due to dyspnea and chest pain~Exclusion Criteria:~* Patient refusal~* Uncertain radiographs or transthoracic echocardiography~* Uncertain tests results',\n",
       "       'Inclusion Criteria:~* Patients younger than 20 years of age~* Diagnosis of Recessive Dystrophic Epidermis Bullosa (RDEB)or Junctional Epidermis Bullosa (JEB)~* Signed consent/assent form~Exclusion Criteria:~-Previous known allergy or intolerance to trimethoprim',\n",
       "       'Inclusion Criteria:~* Patients with persistent (\\\\>12w) symptoms of idiopathic rhinitis dominated by nasal congestion (± secretion) for an average of at least 1 h per day for at least 5 days during a period of 14 days~* Having nasal congestion as major symptom, and a nasal congestion score of at least 2 (scale 0-3)~* Male or female 18 - 65 years~* Judged by the Investigator as suitable for participation in the study without safety concerns based on medical history and physical examination.~* Willing and able to provide written informed consent prior to participation in the clinical investigation~* Willing and able to comply with all study related procedures~Exclusion Criteria:~* Patients with Allergic rhinitis, demonstrated by either positive skin prick test, phadiatop or RAST~* Ongoing respiratory tract infection including nasal cavity at inclusion (treatment visit 1)~* Systemic steroid treatment less than 4 weeks before the inclusion in the study~* Patients with a history of nasal surgery like: septoplasty, cosmetic surgery, conchal surgery or any other nasal surgery except closed reposition for nasal fracture~* History of frequent nose bleeds or a condition that increases the risk of excessive bleeding~* Pronounced anterior septal deviation or other significant nasal pathology at endoscopic examination~* Current malignancy of any kind~* Known allergy to polyvinylchloride or medicinal liquid paraffin~* Any disease, condition (medical or surgical) which, in the opinion of the investigator, might compromise the study results, or would place the subject at increased risk.~* Any implant with an electrical and/or neurostimulator device, including but not limited to cardiac pacemaker, defibrillator, vagal neurostimulator, deep brain stimulation, spinal stimulator, bone growth stimulator, or cochlear implant or any other implant in the head-, and neck region.~* Previous treated with radiation on the face, head or neck regions~* Female patients who are pregnant or nursing, or become pregnant at any time from inclusion of the study until end of the 8 week follow-up visit~* Female patients: unwilling to use adequate contraceptive from the signing of the informed consent until end of the 8 week follow-up visit~* Received study drug in a clinical trial for an investigational drug within the previous 30 days, or 5 half-lives, whichever is longer'],\n",
       "      dtype=object)"
      ]
     },
     "execution_count": 108,
     "metadata": {},
     "output_type": "execute_result"
    }
   ],
   "source": [
    "filtered_data1[\"criteria\"].unique()"
   ]
  },
  {
   "cell_type": "code",
   "execution_count": 109,
   "metadata": {},
   "outputs": [
    {
     "name": "stdout",
     "output_type": "stream",
     "text": [
      "Missing values after handling:\n",
      "Interventions    0\n",
      "criteria         0\n",
      "dtype: int64\n"
     ]
    },
    {
     "name": "stderr",
     "output_type": "stream",
     "text": [
      "C:\\Users\\yuvik\\AppData\\Local\\Temp\\ipykernel_28964\\3141639914.py:7: SettingWithCopyWarning: \n",
      "A value is trying to be set on a copy of a slice from a DataFrame.\n",
      "Try using .loc[row_indexer,col_indexer] = value instead\n",
      "\n",
      "See the caveats in the documentation: https://pandas.pydata.org/pandas-docs/stable/user_guide/indexing.html#returning-a-view-versus-a-copy\n",
      "  filtered_data1.fillna(value=fill_values, inplace=True)\n"
     ]
    }
   ],
   "source": [
    "fill_values = {\n",
    "    'Interventions': 'UNKNOWN_INTERVENTION',\n",
    "    'criteria' : 'UNKNOWN_CRITERIA'\n",
    "}\n",
    "\n",
    "filtered_data1.fillna(value=fill_values, inplace=True)\n",
    "\n",
    "missing_values_after = filtered_data1[list(fill_values.keys())].isnull().sum()\n",
    "print(\"Missing values after handling:\")\n",
    "print(missing_values_after)"
   ]
  },
  {
   "cell_type": "code",
   "execution_count": 111,
   "metadata": {},
   "outputs": [
    {
     "name": "stdout",
     "output_type": "stream",
     "text": [
      "Missing values after handling:\n",
      "Study Design    0\n",
      "Study Type      0\n",
      "Funder Type     0\n",
      "dtype: int64\n"
     ]
    },
    {
     "name": "stderr",
     "output_type": "stream",
     "text": [
      "C:\\Users\\yuvik\\AppData\\Local\\Temp\\ipykernel_28964\\2958426727.py:8: SettingWithCopyWarning: \n",
      "A value is trying to be set on a copy of a slice from a DataFrame.\n",
      "Try using .loc[row_indexer,col_indexer] = value instead\n",
      "\n",
      "See the caveats in the documentation: https://pandas.pydata.org/pandas-docs/stable/user_guide/indexing.html#returning-a-view-versus-a-copy\n",
      "  filtered_data1.fillna(value=fill_values, inplace=True)\n"
     ]
    }
   ],
   "source": [
    "fill_values = {\n",
    "    'Study Design': 'UNKNOWN_DESIGN',\n",
    "    'Study Type': 'UNKNOWN_STUDY_TYPE',\n",
    "    'Funder Type' : 'UNKNOWN_FUNDER'\n",
    "}\n",
    "\n",
    "filtered_data1.fillna(value=fill_values, inplace=True)\n",
    "\n",
    "missing_values_after = filtered_data1[list(fill_values.keys())].isnull().sum()\n",
    "print(\"Missing values after handling:\")\n",
    "print(missing_values_after)"
   ]
  },
  {
   "cell_type": "markdown",
   "metadata": {},
   "source": [
    "Handling Columns that are encoded : filling nan values with -1"
   ]
  },
  {
   "cell_type": "code",
   "execution_count": 112,
   "metadata": {},
   "outputs": [
    {
     "name": "stderr",
     "output_type": "stream",
     "text": [
      "C:\\Users\\yuvik\\AppData\\Local\\Temp\\ipykernel_28964\\581757599.py:3: SettingWithCopyWarning: \n",
      "A value is trying to be set on a copy of a slice from a DataFrame.\n",
      "Try using .loc[row_indexer,col_indexer] = value instead\n",
      "\n",
      "See the caveats in the documentation: https://pandas.pydata.org/pandas-docs/stable/user_guide/indexing.html#returning-a-view-versus-a-copy\n",
      "  filtered_data1[col] =filtered_data1[col].fillna(-1)\n"
     ]
    }
   ],
   "source": [
    "columns_to_fill = ['older_adult', 'adult', 'child']\n",
    "for col in columns_to_fill:\n",
    "    filtered_data1[col] =filtered_data1[col].fillna(-1)"
   ]
  },
  {
   "cell_type": "code",
   "execution_count": 113,
   "metadata": {},
   "outputs": [
    {
     "name": "stderr",
     "output_type": "stream",
     "text": [
      "C:\\Users\\yuvik\\AppData\\Local\\Temp\\ipykernel_28964\\3907111339.py:3: SettingWithCopyWarning: \n",
      "A value is trying to be set on a copy of a slice from a DataFrame.\n",
      "Try using .loc[row_indexer,col_indexer] = value instead\n",
      "\n",
      "See the caveats in the documentation: https://pandas.pydata.org/pandas-docs/stable/user_guide/indexing.html#returning-a-view-versus-a-copy\n",
      "  filtered_data1[col] = filtered_data1[col].fillna(-1)\n"
     ]
    }
   ],
   "source": [
    "# null values handling in columns starting with '_adverse_event_cluster_' : these are encoded columns\n",
    "\n",
    "adverse_columns = [col for col in filtered_data1.columns if col.startswith('_adverse_event_cluster_')]\n",
    "for col in adverse_columns:\n",
    "   filtered_data1[col] = filtered_data1[col].fillna(-1)"
   ]
  },
  {
   "cell_type": "code",
   "execution_count": 188,
   "metadata": {},
   "outputs": [],
   "source": [
    "filtered_data1.to_csv(r\"C:\\Users\\Siddhant Nijhawan\\Downloads\\Nest_Codes\\Dropped_columns_files\\filtered_data1.csv\")"
   ]
  },
  {
   "cell_type": "code",
   "execution_count": 198,
   "metadata": {},
   "outputs": [],
   "source": [
    "filtered_data1 = pd.read_csv(r\"C:\\Users\\Siddhant Nijhawan\\Downloads\\Nest_Codes\\Dropped_columns_files\\filtered_data1.csv\")"
   ]
  },
  {
   "cell_type": "code",
   "execution_count": 114,
   "metadata": {},
   "outputs": [
    {
     "name": "stderr",
     "output_type": "stream",
     "text": [
      "C:\\Users\\yuvik\\AppData\\Local\\Temp\\ipykernel_28964\\1062458348.py:3: SettingWithCopyWarning: \n",
      "A value is trying to be set on a copy of a slice from a DataFrame.\n",
      "Try using .loc[row_indexer,col_indexer] = value instead\n",
      "\n",
      "See the caveats in the documentation: https://pandas.pydata.org/pandas-docs/stable/user_guide/indexing.html#returning-a-view-versus-a-copy\n",
      "  filtered_data1[col] = filtered_data1[col].fillna(-1)\n"
     ]
    }
   ],
   "source": [
    "#starting with \"reason_\"\n",
    "\n",
    "reason_columns = [col for col in filtered_data1.columns if col.startswith('reason_')]\n",
    "for col in reason_columns:\n",
    "   filtered_data1[col] = filtered_data1[col].fillna(-1)"
   ]
  },
  {
   "cell_type": "code",
   "execution_count": 115,
   "metadata": {},
   "outputs": [
    {
     "name": "stderr",
     "output_type": "stream",
     "text": [
      "C:\\Users\\yuvik\\AppData\\Local\\Temp\\ipykernel_28964\\4161749727.py:3: SettingWithCopyWarning: \n",
      "A value is trying to be set on a copy of a slice from a DataFrame.\n",
      "Try using .loc[row_indexer,col_indexer] = value instead\n",
      "\n",
      "See the caveats in the documentation: https://pandas.pydata.org/pandas-docs/stable/user_guide/indexing.html#returning-a-view-versus-a-copy\n",
      "  filtered_data1[col] = filtered_data1[col].fillna(-1)\n"
     ]
    }
   ],
   "source": [
    "#starting with \"organ_system_\"\n",
    "\n",
    "organ_system_columns = [col for col in filtered_data1.columns if col.startswith('organ_system_')]\n",
    "for col in organ_system_columns:\n",
    "   filtered_data1[col] = filtered_data1[col].fillna(-1)"
   ]
  },
  {
   "cell_type": "code",
   "execution_count": 116,
   "metadata": {},
   "outputs": [
    {
     "name": "stderr",
     "output_type": "stream",
     "text": [
      "C:\\Users\\yuvik\\AppData\\Local\\Temp\\ipykernel_28964\\2214854627.py:5: SettingWithCopyWarning: \n",
      "A value is trying to be set on a copy of a slice from a DataFrame.\n",
      "Try using .loc[row_indexer,col_indexer] = value instead\n",
      "\n",
      "See the caveats in the documentation: https://pandas.pydata.org/pandas-docs/stable/user_guide/indexing.html#returning-a-view-versus-a-copy\n",
      "  filtered_data1[col] = filtered_data1[col].fillna(-1)\n"
     ]
    }
   ],
   "source": [
    "#starting with \"period_\"\n",
    "\n",
    "prefixes = ['period_']\n",
    "for prefix in prefixes:\n",
    "   columns = [col for col in filtered_data1.columns if col.startswith(prefix)]\n",
    "   for col in columns:\n",
    "       filtered_data1[col] = filtered_data1[col].fillna(-1)"
   ]
  },
  {
   "cell_type": "code",
   "execution_count": 117,
   "metadata": {},
   "outputs": [
    {
     "name": "stderr",
     "output_type": "stream",
     "text": [
      "C:\\Users\\yuvik\\AppData\\Local\\Temp\\ipykernel_28964\\897850941.py:5: SettingWithCopyWarning: \n",
      "A value is trying to be set on a copy of a slice from a DataFrame.\n",
      "Try using .loc[row_indexer,col_indexer] = value instead\n",
      "\n",
      "See the caveats in the documentation: https://pandas.pydata.org/pandas-docs/stable/user_guide/indexing.html#returning-a-view-versus-a-copy\n",
      "  filtered_data1[col] = filtered_data1[col].fillna(-1)\n"
     ]
    }
   ],
   "source": [
    "prefixes = ['assessment_type_', 'country_', 'event_type_']\n",
    "for prefix in prefixes:\n",
    "   columns = [col for col in filtered_data1.columns if col.startswith(prefix)]\n",
    "   for col in columns:\n",
    "       filtered_data1[col] = filtered_data1[col].fillna(-1)"
   ]
  },
  {
   "cell_type": "code",
   "execution_count": 126,
   "metadata": {},
   "outputs": [
    {
     "name": "stdout",
     "output_type": "stream",
     "text": [
      "Total number of null values: NCT Number                    0\n",
      "Study Title                   0\n",
      "Study Status                  0\n",
      "Brief Summary                 0\n",
      "Study Results                 0\n",
      "Conditions                    0\n",
      "Interventions                 0\n",
      "Primary Outcome Measures      0\n",
      "Secondary Outcome Measures    0\n",
      "Sex                           0\n",
      "dtype: int64\n"
     ]
    }
   ],
   "source": [
    "total_nulls = filtered_data3.isnull().sum().head(10)\n",
    "print(f\"Total number of null values: {total_nulls}\")"
   ]
  },
  {
   "cell_type": "code",
   "execution_count": 120,
   "metadata": {},
   "outputs": [],
   "source": [
    "filtered_data2 = filtered_data1.dropna(subset=['NCT Number'])"
   ]
  },
  {
   "cell_type": "code",
   "execution_count": 121,
   "metadata": {},
   "outputs": [],
   "source": [
    "filtered_data3 = filtered_data2.dropna(subset=['Study Title'])"
   ]
  },
  {
   "cell_type": "code",
   "execution_count": 124,
   "metadata": {},
   "outputs": [
    {
     "name": "stdout",
     "output_type": "stream",
     "text": [
      "Total number of null values: 0\n"
     ]
    }
   ],
   "source": [
    "total_nulls = filtered_data3.isnull().sum().sum()\n",
    "print(f\"Total number of null values: {total_nulls}\")"
   ]
  },
  {
   "cell_type": "code",
   "execution_count": 123,
   "metadata": {},
   "outputs": [],
   "source": [
    "filtered_data3.to_csv(r\"null_values_dealt.csv\")"
   ]
  }
 ],
 "metadata": {
  "kernelspec": {
   "display_name": "base",
   "language": "python",
   "name": "python3"
  },
  "language_info": {
   "codemirror_mode": {
    "name": "ipython",
    "version": 3
   },
   "file_extension": ".py",
   "mimetype": "text/x-python",
   "name": "python",
   "nbconvert_exporter": "python",
   "pygments_lexer": "ipython3",
   "version": "3.9.12"
  }
 },
 "nbformat": 4,
 "nbformat_minor": 4
}
